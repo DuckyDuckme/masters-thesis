{
 "cells": [
  {
   "cell_type": "code",
   "execution_count": 79,
   "id": "e8206c0d",
   "metadata": {},
   "outputs": [],
   "source": [
    "import numpy as np\n",
    "\n",
    "p = 2\n",
    "K = GF(p)\n",
    "n = 3\n",
    "m = 2\n",
    "# R = PolynomialRing(K, x, n) # defines n variables over K\n",
    "# R.inject_variables(verbose=False) # makes all the variables ready for use"
   ]
  },
  {
   "cell_type": "code",
   "execution_count": 22,
   "id": "ad06af97",
   "metadata": {},
   "outputs": [],
   "source": [
    "# class QuadraticForm(SageObject):\n",
    "# adjusted Gram matrix method that works for any ring of char != 2\n",
    "def my_Gram_matrix(self):\n",
    "    R = self.base_ring()\n",
    "    assert R.characteristic() != 2, \"Characteristic of the base ring cannot be 2.\"\n",
    "    A = (R(1) / R(2)) * self.matrix()\n",
    "    n = self.dim()\n",
    "\n",
    "    Int_flag = True\n",
    "    for i in range(n):\n",
    "        for j in range(i, n):\n",
    "            Int_flag &= A[i, j] in R\n",
    "\n",
    "    # Return the Gram matrix, or an error\n",
    "    if Int_flag:\n",
    "        return MatrixSpace(R, n, n)(A)\n",
    "    raise TypeError(\"this form does not have an integral Gram matrix\")\n",
    "\n",
    "QuadraticForm.my_Gram_matrix = my_Gram_matrix"
   ]
  },
  {
   "cell_type": "code",
   "execution_count": 23,
   "id": "2a6cac91",
   "metadata": {},
   "outputs": [],
   "source": [
    "# given a polynomial f, output the matrix A, vector B and scalar C s.t.\n",
    "# f(x) = x^T Ax + Bx + C\n",
    "def quadratic_to_matrix(f):\n",
    "    h = f.homogeneous_components()\n",
    "    A = QuadraticForm(h.get(2)).my_Gram_matrix()\n",
    "    B = vector([])\n",
    "    C = 0\n",
    "\n",
    "    # try/except but for the poor ppl \n",
    "    if h.get(1) != None:\n",
    "        # we make a vector of the coefficients of each basis element\n",
    "        B = vector([h.get(1).coefficient(R.gens()[i]) for i in range(n)])\n",
    "\n",
    "    if h.get(0) != None:\n",
    "        C = h.get(0)\n",
    "\n",
    "    return A, B, C"
   ]
  },
  {
   "cell_type": "code",
   "execution_count": 24,
   "id": "ccda966e",
   "metadata": {},
   "outputs": [],
   "source": [
    "# a function that simulates precomposition of a quadratic form\n",
    "# f(x) = x^T Ax + Bx + C with a n x n matrix S \n",
    "# so it returns f \\circ S \n",
    "def transform_input(S, A, B, C):\n",
    "    # this throws an error because S^T A S is a matrix but BS is a vector and you cannot\n",
    "    # put them in together in one vector\n",
    "    #\n",
    "    # it works if you return them separately, not in a vector\n",
    "    return vector(K, [S.transpose()*A*S, B*S, C])"
   ]
  },
  {
   "cell_type": "code",
   "execution_count": 106,
   "id": "c9b728f3",
   "metadata": {},
   "outputs": [],
   "source": [
    "def random_symmetric_matrix(K, n):\n",
    "    # get a random matrix\n",
    "    A = random_matrix(K, n, n)\n",
    "    # and make it symmetric\n",
    "    return A + A.transpose()\n",
    "\n",
    "# returns A, B and C like above\n",
    "def random_quadratic_poly(K, n):\n",
    "    return random_symmetric_matrix(K, n), random_vector(K, n), K.random_element()"
   ]
  },
  {
   "cell_type": "code",
   "execution_count": 86,
   "id": "64519005",
   "metadata": {},
   "outputs": [],
   "source": [
    "class VectorOfMatrices:\n",
    "    def __init__(self, matrices):\n",
    "        self.matrices = matrices\n",
    "     \n",
    "    def __mul__(self, other):\n",
    "        # https://doc.sagemath.org/html/en/reference/matrices/sage/matrix/matrix_dense.html\n",
    "        if not isinstance(other, sage.matrix.matrix_dense.Matrix_dense):\n",
    "            raise TypeError(\"We only multiply by a matrix my dear\")\n",
    "\n",
    "        if other.ncols() != len(self.matrices):\n",
    "            raise ValueError(\"Matrix dimensions do not match\")\n",
    "\n",
    "        # multiply them by hand\n",
    "        result = [sum(other[i, j] * self.matrices[j] for j in range(len(self.matrices))) for i in range(other.nrows())]\n",
    "        # gives back a list\n",
    "        return result\n",
    "\n",
    "    def __repr__(self):\n",
    "        return f\"VectorOfMatrices(\\n{self.matrices})\"\n",
    "    \n",
    "    __rmul__ = __mul__"
   ]
  },
  {
   "cell_type": "code",
   "execution_count": 49,
   "id": "f7386911",
   "metadata": {},
   "outputs": [],
   "source": [
    "# an actual example\n",
    "# instead of generating an actual polynomial first \n",
    "# and then getting the corresponding matrices,\n",
    "# generate the matrices randomly\n",
    "\n",
    "# here are the actual transformations\n",
    "T = matrix(GL(m, K).random_element())\n",
    "S = matrix(GL(n, K).random_element())\n",
    "\n",
    "# We define the ring with enough variables for both our matrices\n",
    "R2  = PolynomialRing(K, n^2 + m^2, 'y')\n",
    "R2.inject_variables(verbose=False)\n",
    "\n",
    "# first n^2 elements of R2\n",
    "S_ = matrix(R2, n, n, R2.gens()[:n^2])\n",
    "\n",
    "# we get the last m^2 variables of R2\n",
    "T_ = matrix(R2, m, m, R2.gens()[-m^2:])\n",
    "# print(S_, T_)\n",
    "\n",
    "# generate whole ass m-sized vector of (homogenous) polynomials\n",
    "F = []\n",
    "for i in range(m):\n",
    "    A = random_symmetric_matrix(K, n)\n",
    "    F.append(A)"
   ]
  },
  {
   "cell_type": "code",
   "execution_count": 206,
   "id": "f4e375e6",
   "metadata": {},
   "outputs": [
    {
     "name": "stdout",
     "output_type": "stream",
     "text": [
      "1\n",
      "[43 98 92 49 58]\n",
      "[20 58 47 22 19]\n",
      "[29 63 79 75 39]\n",
      "[45 85 19 28 86]\n",
      "[67 55 47 28 96]\n"
     ]
    }
   ],
   "source": [
    "G = [S.transpose()*A*S for A in F]\n",
    "G_ = [S_.transpose()*A*S_ for A in F]\n",
    "\n",
    "v = VectorOfMatrices(G)\n",
    "v_ = VectorOfMatrices(G_)\n",
    "\n",
    "P = T*v\n",
    "P_ = T_*v_\n",
    "\n",
    "system = []\n",
    "for i in range(m):\n",
    "    system.append(P_[i] - P[i])\n",
    "    \n",
    "flat_system = [A.list() for A in system][0]\n",
    "# flat_system.append()\n",
    "\n",
    "# print(system)\n",
    "# print(flat_system)\n",
    "# I = R2.ideal(flat_system)\n",
    "# J = I.groebner_basis()\n",
    "\n",
    "print(I.dimension())\n",
    "# print(G[0])\n",
    "print(S)\n"
   ]
  },
  {
   "cell_type": "code",
   "execution_count": 262,
   "id": "c00d44d2",
   "metadata": {},
   "outputs": [
    {
     "name": "stdout",
     "output_type": "stream",
     "text": [
      "[32 16  2]\n",
      "[28 58 40]\n"
     ]
    }
   ],
   "source": [
    "B = matrix(K, m, n)\n",
    "for i in range(m):\n",
    "    B[i] = vector(K, np.random.randint(p, size=n))\n",
    "    \n",
    "print(B)"
   ]
  },
  {
   "cell_type": "code",
   "execution_count": 281,
   "id": "7b45b5e3",
   "metadata": {},
   "outputs": [
    {
     "name": "stdout",
     "output_type": "stream",
     "text": [
      "[-32*y0 - 16*y3 - 2*y6 + 19, -32*y1 - 16*y4 - 2*y7 + 44, -32*y2 - 16*y5 - 2*y8 + 13, -28*y0 + 43*y3 - 40*y6 + 50, -28*y1 + 43*y4 - 40*y7 - 16, -28*y2 + 43*y5 - 40*y8 + 38]\n"
     ]
    },
    {
     "data": {
      "text/plain": [
       "7"
      ]
     },
     "execution_count": 281,
     "metadata": {},
     "output_type": "execute_result"
    }
   ],
   "source": [
    "# print(B[0]*S_)\n",
    "\n",
    "P = B*S\n",
    "D = P - B*S_\n",
    "I = R2.ideal(D.list())\n",
    "print(D.list())\n",
    "# J = I.primary_decomposition(); J\n",
    "# J = R2.ideal(J)\n",
    "J = I.gens()\n",
    "J = R2.ideal(J)\n",
    "J.dimension()"
   ]
  },
  {
   "cell_type": "code",
   "execution_count": 83,
   "id": "09d62bad-c0da-40fd-80dd-d1601c37bba4",
   "metadata": {},
   "outputs": [
    {
     "name": "stdout",
     "output_type": "stream",
     "text": [
      "17\n"
     ]
    }
   ],
   "source": [
    "S1 = matrix(GL(n, K).random_element())\n",
    "S2 = matrix(GL(n, K).random_element())\n",
    "\n",
    "R2  = PolynomialRing(K, 2*n^2, 'x')\n",
    "R2.inject_variables(verbose=False)\n",
    "\n",
    "# first n^2 elements of R2\n",
    "S1_ = matrix(R2, n, n, R2.gens()[:n^2])\n",
    "S2_ = matrix(R2, n, n, R2.gens()[-n^2:])\n",
    "\n",
    "system = []\n",
    "for i in range(m):\n",
    "    A = random_symmetric_matrix(K, n)\n",
    "    system += (S1*A*S2 - S1_*A*S2_).list()\n",
    "\n",
    "# system = (D1 - D1_).list() + (D2 - D2_).list() + (D3 - D3_).list()\n",
    "\n",
    "I = R2.ideal(system)\n",
    "# J = R2.ideal([x2^2 + x3^3, 2*x2^4])\n",
    "# J = I.groebner_basis()\n",
    "print(J.dimension())"
   ]
  },
  {
   "cell_type": "code",
   "execution_count": 107,
   "id": "8303e09b-7d43-49d1-a598-38666a770b49",
   "metadata": {},
   "outputs": [
    {
     "name": "stdout",
     "output_type": "stream",
     "text": [
      "Defining a0, a1, a2, a3, a4, a5, a6, a7, a8, a9, a10, a11, a12, a13, a14, a15, a16, a17, a18, a19, a20, a21, a22, a23, a24, a25, a26, a27, a28, a29, a30, a31\n"
     ]
    }
   ],
   "source": [
    "q = 2\n",
    "n = 4\n",
    "K = GF(q)  # Finite field with q elements\n",
    "\n",
    "# Boolean polynomial ring with 2*n^2 variables in grevlex order\n",
    "R = PolynomialRing(K, 2 * n**2, names='a', order='degrevlex')\n",
    "\n",
    "# Generate variable names\n",
    "# vars_a = [f\"a_{i}_{j}\" for i in range(1, n+1) for j in range(1, n+1)]\n",
    "# vars_b = [f\"b_{i}_{j}\" for i in range(1, n+1) for j in range(1, n+1)]\n",
    "# vars = vars_a + vars_b\n",
    "R.inject_variables()  # Inject variables into the namespace\n",
    "\n",
    "# Create matrices A_ and B_ with the variables\n",
    "A_ = matrix(R, n, n, [R.gen((i-1)*n + (j-1)) for i in range(1, n+1) for j in range(1, n+1)])\n",
    "B_ = matrix(R, n, n, [R.gen((i-1)*n + (j-1) + n**2) for i in range(1, n+1) for j in range(1, n+1)])\n",
    "\n",
    "# Generate random matrices C1 and C2 of full rank\n",
    "C1 = random_matrix(K, n, n)\n",
    "while C1.rank() < n:\n",
    "    C1 = random_matrix(K, n, n)\n",
    "\n",
    "C2 = random_matrix(K, n, n)\n",
    "while C2.rank() < n:\n",
    "    C2 = random_matrix(K, n, n)\n",
    "\n",
    "# Generate random invertible matrices A and B\n",
    "A = GL(n, K).random_element()\n",
    "B = GL(n, K).random_element()\n",
    "\n",
    "# Compute D1 and D2\n",
    "D1 = A * C1 * B\n",
    "D2 = A * C2 * B\n",
    "\n",
    "# Compute D1_var and D2_var using the symbolic matrices A_ and B_\n",
    "D1_var = A_ * C1 * B_\n",
    "D2_var = A_ * C2 * B_\n",
    "\n",
    "# Create the system of equations\n",
    "system = []\n",
    "for i in range(n):\n",
    "    for j in range(n):\n",
    "        system.append(D1[i][j] - D1_var[i][j])\n",
    "        system.append(D2[i][j] - D2_var[i][j])"
   ]
  },
  {
   "cell_type": "code",
   "execution_count": 109,
   "id": "d3b1d68f-7351-415b-b3df-585ad68a049c",
   "metadata": {},
   "outputs": [
    {
     "name": "stdout",
     "output_type": "stream",
     "text": [
      "4\n"
     ]
    }
   ],
   "source": [
    "# Compute the Groebner basis of the system\n",
    "I = R.ideal(system)\n",
    "I.groebner_basis()  # Compute the Groebner basis\n",
    "\n",
    "# Find the variety (solutions) of the system\n",
    "# solutions = I.variety()\n",
    "print(I.dimension())"
   ]
  }
 ],
 "metadata": {
  "kernelspec": {
   "display_name": "SageMath 10.5",
   "language": "sage",
   "name": "sagemath"
  },
  "language_info": {
   "codemirror_mode": {
    "name": "ipython",
    "version": 3
   },
   "file_extension": ".py",
   "mimetype": "text/x-python",
   "name": "python",
   "nbconvert_exporter": "python",
   "pygments_lexer": "ipython3",
   "version": "3.13.1"
  }
 },
 "nbformat": 4,
 "nbformat_minor": 5
}
