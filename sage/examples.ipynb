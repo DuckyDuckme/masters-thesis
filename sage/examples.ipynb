{
 "cells": [
  {
   "cell_type": "code",
   "execution_count": null,
   "id": "e8206c0d",
   "metadata": {},
   "outputs": [],
   "source": [
    "import numpy as np\n",
    "\n",
    "p = 3\n",
    "K = GF(p)\n",
    "n = 3\n",
    "m = 2\n",
    "# R = PolynomialRing(K, x, n) # defines n variables over K\n",
    "# R.inject_variables(verbose=False) # makes all the variables ready for use"
   ]
  },
  {
   "cell_type": "code",
   "execution_count": null,
   "id": "ad06af97",
   "metadata": {},
   "outputs": [],
   "source": [
    "# class QuadraticForm(SageObject):\n",
    "# adjusted Gram matrix method that works for any ring of char != 2\n",
    "def my_Gram_matrix(self):\n",
    "    R = self.base_ring()\n",
    "    assert R.characteristic() != 2, \"Characteristic of the base ring cannot be 2.\"\n",
    "    A = (R(1) / R(2)) * self.matrix()\n",
    "    n = self.dim()\n",
    "\n",
    "    Int_flag = True\n",
    "    for i in range(n):\n",
    "        for j in range(i, n):\n",
    "            Int_flag &= A[i, j] in R\n",
    "\n",
    "    # Return the Gram matrix, or an error\n",
    "    if Int_flag:\n",
    "        return MatrixSpace(R, n, n)(A)\n",
    "    raise TypeError(\"this form does not have an integral Gram matrix\")\n",
    "\n",
    "QuadraticForm.my_Gram_matrix = my_Gram_matrix"
   ]
  },
  {
   "cell_type": "code",
   "execution_count": null,
   "id": "2a6cac91",
   "metadata": {},
   "outputs": [],
   "source": [
    "# given a polynomial f, output the matrix A, vector B and scalar C s.t.\n",
    "# f(x) = x^T Ax + Bx + C\n",
    "def quadratic_to_matrix(f):\n",
    "    h = f.homogeneous_components()\n",
    "    A = QuadraticForm(h.get(2)).my_Gram_matrix()\n",
    "    B = vector([])\n",
    "    C = 0\n",
    "\n",
    "    # try/except but for the poor ppl \n",
    "    if h.get(1) != None:\n",
    "        # we make a vector of the coefficients of each basis element\n",
    "        B = vector([h.get(1).coefficient(R.gens()[i]) for i in range(n)])\n",
    "\n",
    "    if h.get(0) != None:\n",
    "        C = h.get(0)\n",
    "\n",
    "    return A, B, C"
   ]
  },
  {
   "cell_type": "code",
   "execution_count": null,
   "id": "ccda966e",
   "metadata": {},
   "outputs": [],
   "source": [
    "# a function that simulates precomposition of a quadratic form\n",
    "# f(x) = x^T Ax + Bx + C with a n x n matrix S \n",
    "# so it returns f \\circ S \n",
    "def transform_input(S, A, B, C):\n",
    "    # this throws an error because S^T A S is a matrix but BS is a vector and you cannot\n",
    "    # put them in together in one vector\n",
    "    #\n",
    "    # it works if you return them separately, not in a vector\n",
    "    return S.transpose()*A*S, B*S, C"
   ]
  },
  {
   "cell_type": "code",
   "execution_count": null,
   "id": "c9b728f3",
   "metadata": {},
   "outputs": [],
   "source": [
    "def random_symmetric_matrix(K, n):\n",
    "    # get a random matrix\n",
    "    A = random_matrix(K, n, n)\n",
    "    # and make it symmetric\n",
    "    return A + A.transpose()\n",
    "\n",
    "# returns A, B and C like above\n",
    "def random_quadratic_poly(K, n):\n",
    "    return random_symmetric_matrix(K, n), random_vector(K, n), K.random_element()"
   ]
  },
  {
   "cell_type": "code",
   "execution_count": null,
   "id": "64519005",
   "metadata": {},
   "outputs": [],
   "source": [
    "class VectorOfMatrices:\n",
    "    def __init__(self, matrices):\n",
    "        self.matrices = matrices\n",
    "     \n",
    "    def __mul__(self, other):\n",
    "        # https://doc.sagemath.org/html/en/reference/matrices/sage/matrix/matrix_dense.html\n",
    "        if not isinstance(other, sage.matrix.matrix_dense.Matrix_dense):\n",
    "            raise TypeError(\"We only multiply by a matrix my dear\")\n",
    "\n",
    "        if other.ncols() != len(self.matrices):\n",
    "            raise ValueError(\"Matrix dimensions do not match\")\n",
    "\n",
    "        # multiply them by hand\n",
    "        result = [sum(other[i, j] * self.matrices[j] for j in range(len(self.matrices))) for i in range(other.nrows())]\n",
    "        # gives back a list\n",
    "        return result\n",
    "\n",
    "    def __repr__(self):\n",
    "        return f\"VectorOfMatrices(\\n{self.matrices})\"\n",
    "    \n",
    "    __rmul__ = __mul__"
   ]
  },
  {
   "cell_type": "code",
   "execution_count": null,
   "id": "f7386911",
   "metadata": {},
   "outputs": [],
   "source": [
    "# an actual example\n",
    "# instead of generating an actual polynomial first \n",
    "# and then getting the corresponding matrices,\n",
    "# generate the matrices randomly\n",
    "\n",
    "# here are the actual transformations\n",
    "T = matrix(GL(m, K).random_element())\n",
    "S = matrix(GL(n, K).random_element())\n",
    "\n",
    "# We define the ring with enough variables for both our matrices\n",
    "R2  = PolynomialRing(K, n^2 + m^2, 'y')\n",
    "R2.inject_variables(verbose=False)\n",
    "\n",
    "# first n^2 elements of R2\n",
    "S_ = matrix(R2, n, n, R2.gens()[:n^2])\n",
    "\n",
    "# we get the last m^2 variables of R2\n",
    "T_ = matrix(R2, m, m, R2.gens()[-m^2:])\n",
    "# print(S_, T_)\n",
    "\n",
    "# generate whole ass m-sized vector of (homogenous) polynomials\n",
    "hom = []\n",
    "for i in range(m):\n",
    "    A = random_symmetric_matrix(K, n)\n",
    "    hom.append(A)"
   ]
  },
  {
   "cell_type": "code",
   "execution_count": null,
   "id": "f4e375e6",
   "metadata": {},
   "outputs": [],
   "source": [
    "# this is for the homogenous part S^T AS\n",
    "G = [S.transpose()*A*S for A in hom]\n",
    "G_ = [S_.transpose()*A*S_ for A in hom]\n",
    "\n",
    "v = VectorOfMatrices(G)\n",
    "v_ = VectorOfMatrices(G_)\n",
    "\n",
    "P = T*v\n",
    "P_ = T_*v_\n",
    "\n",
    "field_eqs = [y^p - y for y in R2.gens()]\n",
    "system = []\n",
    "for i in range(m):\n",
    "    system.append(P_[i] - P[i])\n",
    "\n",
    "\n",
    "flat_system = [A.list() for A in system][0]\n",
    "# the list(set(.)) removes the duplicates\n",
    "total_system = list(set(flat_system + field_eqs))\n",
    "\n",
    "print(total_system)"
   ]
  },
  {
   "cell_type": "code",
   "execution_count": null,
   "id": "858e3169-4197-48f7-9a6a-23aed55a2de1",
   "metadata": {},
   "outputs": [],
   "source": [
    "# this is for the vector part B*S\n"
   ]
  },
  {
   "cell_type": "code",
   "execution_count": null,
   "id": "21c9249b-fda2-4c58-94e1-a70b2ec3632a",
   "metadata": {},
   "outputs": [],
   "source": [
    "I = R2.ideal(total_system)\n",
    "J = R2.ideal(flat_system)\n",
    "# print(I.dimension())\n",
    "# J = I.groebner_basis()\n",
    "Z = I.variety()\n",
    "# timeit.eval(\"Z = I.variety()\")\n",
    "print(Z)"
   ]
  },
  {
   "cell_type": "code",
   "execution_count": null,
   "id": "8710c50c-6fe7-49a1-b275-20cab8a9ec3c",
   "metadata": {},
   "outputs": [],
   "source": [
    "L = [f.subs(v) for f in I.gens() for v in Z]\n",
    "all(f.subs(v) == 0 for f in I.gens() for v in Z)"
   ]
  },
  {
   "cell_type": "code",
   "execution_count": null,
   "id": "ee02d8da-481d-47c1-86e1-fdf417d46829",
   "metadata": {},
   "outputs": [],
   "source": [
    "from sage.rings.polynomial.msolve import variety\n",
    "# help(variety)\n",
    "Z = variety(I, K, proof=False)\n",
    "# sorted(variety(I, K, proof=False), key=str)\n",
    "print(Z)"
   ]
  },
  {
   "cell_type": "code",
   "execution_count": null,
   "id": "f389ee3b-e58a-458e-9732-70435dace307",
   "metadata": {},
   "outputs": [],
   "source": [
    "# given a system of polynomials, check if it correctly corresponds\n",
    "# to the actual matrices it was created from\n",
    "#\n",
    "# system is a list of multivariate polynomials\n",
    "# S and T are matrices\n",
    "def verify_system(system, S, T):\n",
    "    point = S.list()+T.list()\n",
    "    return all(f(point) == 0 for f in system)"
   ]
  }
 ],
 "metadata": {
  "kernelspec": {
   "display_name": "SageMath 10.5",
   "language": "sage",
   "name": "sagemath"
  },
  "language_info": {
   "codemirror_mode": {
    "name": "ipython",
    "version": 3
   },
   "file_extension": ".py",
   "mimetype": "text/x-python",
   "name": "python",
   "nbconvert_exporter": "python",
   "pygments_lexer": "ipython3",
   "version": "3.13.2"
  }
 },
 "nbformat": 4,
 "nbformat_minor": 5
}
