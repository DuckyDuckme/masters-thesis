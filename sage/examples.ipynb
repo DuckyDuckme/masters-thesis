{
 "cells": [
  {
   "cell_type": "code",
   "execution_count": 21,
   "id": "7997c5b5-b262-4826-ab25-56c9dab3725c",
   "metadata": {},
   "outputs": [],
   "source": [
    "from types import MethodType\n",
    "\n",
    "p = 13\n",
    "K = GF(p)\n",
    "n = 5\n",
    "R = PolynomialRing(K, x, n) # defines n variables over K\n",
    "R.inject_variables(verbose=False) # makes all the variables ready for use"
   ]
  },
  {
   "cell_type": "code",
   "execution_count": 22,
   "id": "a547f154-0096-4014-855b-533ed587ee3d",
   "metadata": {},
   "outputs": [],
   "source": [
    "# generate two m-tuples of inhomogenous multivariate polynomials of degree 2\",\n",
    "m = 4\n",
    "\n",
    "F = []\n",
    "P = []\n",
    "for i in range(m):\n",
    "    F.append(R.random_element(degree=2))\n",
    "    P.append(R.random_element(degree=2))"
   ]
  },
  {
   "cell_type": "code",
   "execution_count": 23,
   "id": "33059be2-f669-433d-9527-1c25ed9cecb8",
   "metadata": {},
   "outputs": [],
   "source": [
    "# class QuadraticForm(SageObject):\n",
    "\n",
    "def my_Gram_matrix(self):\n",
    "    R = self.base_ring()\n",
    "    assert R.characteristic() != 2, \"Characteristic of the base ring cannot be 2.\"\n",
    "    A = (R(1) / R(2)) * self.matrix()\n",
    "    n = self.dim()\n",
    "\n",
    "    # Test to see if it has an integral Gram matrix\n",
    "    Int_flag = True\n",
    "    for i in range(n):\n",
    "        for j in range(i, n):\n",
    "            Int_flag &= A[i, j] in R\n",
    "\n",
    "    # Return the Gram matrix, or an error\n",
    "    if Int_flag:\n",
    "        return MatrixSpace(R, n, n)(A)\n",
    "    raise TypeError(\"this form does not have an integral Gram matrix\")\n",
    "\n",
    "QuadraticForm.my_Gram_matrix = my_Gram_matrix"
   ]
  },
  {
   "cell_type": "code",
   "execution_count": 24,
   "id": "2109a390-5694-467a-99e9-489de03458e5",
   "metadata": {},
   "outputs": [
    {
     "name": "stdout",
     "output_type": "stream",
     "text": [
      "x1^2 + 6*x0*x4 - 2*x1*x4 + 2*x1 - 4*x4\n",
      "[ 0  0  0  0  3]\n",
      "[ 0  1  0  0 12]\n",
      "[ 0  0  0  0  0]\n",
      "[ 0  0  0  0  0]\n",
      "[ 3 12  0  0  0] [2, 9] None\n"
     ]
    }
   ],
   "source": [
    "idx = 3 # some random index\n",
    "\n",
    "print(F[idx])\n",
    "D = F[idx].homogeneous_components() # get a dictionary of the homogenous components\n",
    "\n",
    "# create a matrix representation of a quadratic form F[idx] from its homogenous components\n",
    "# matrix A, vector B and a scalar C\n",
    "A = QuadraticForm(D.get(2)).my_Gram_matrix()\n",
    "B = D.get(1).coefficients()\n",
    "C = D.get(0)\n",
    "print(A,B,C)\n",
    "# A.base_ring()"
   ]
  },
  {
   "cell_type": "code",
   "execution_count": 8,
   "id": "93f942ea-dcb4-40c4-88f8-6e6c71c3b840",
   "metadata": {},
   "outputs": [
    {
     "name": "stdout",
     "output_type": "stream",
     "text": [
      "[ 0  1  4  5]\n",
      "[ 5 11  7  1]\n",
      "[ 7 12  0  4]\n",
      "[ 3 10  0  8] \n",
      " [ 5  3 10  1 10]\n",
      "[ 1  5  9  5  1]\n",
      "[ 9  1  0  6 11]\n",
      "[ 2  0  6 11  8]\n",
      "[ 5 11  4 12  7]\n",
      "[                                             0    x0*x1 + 2*x1^2 + 2*x0*x4 - 6*x2*x4 - 2*x4^2  4*x0*x1 - 5*x1^2 - 5*x0*x4 + 2*x2*x4 + 5*x4^2  5*x0*x1 - 3*x1^2 - 3*x0*x4 - 4*x2*x4 + 3*x4^2]\n",
      "[ 5*x0*x1 - 3*x1^2 - 3*x0*x4 - 4*x2*x4 + 3*x4^2   -2*x0*x1 - 4*x1^2 - 4*x0*x4 - x2*x4 + 4*x4^2       -6*x0*x1 + x1^2 + x0*x4 - 3*x2*x4 - x4^2    x0*x1 + 2*x1^2 + 2*x0*x4 - 6*x2*x4 - 2*x4^2]\n",
      "[      -6*x0*x1 + x1^2 + x0*x4 - 3*x2*x4 - x4^2   -x0*x1 - 2*x1^2 - 2*x0*x4 + 6*x2*x4 + 2*x4^2                                              0  4*x0*x1 - 5*x1^2 - 5*x0*x4 + 2*x2*x4 + 5*x4^2]\n",
      "[ 3*x0*x1 + 6*x1^2 + 6*x0*x4 - 5*x2*x4 - 6*x4^2 -3*x0*x1 - 6*x1^2 - 6*x0*x4 + 5*x2*x4 + 6*x4^2                                              0 -5*x0*x1 + 3*x1^2 + 3*x0*x4 + 4*x2*x4 - 3*x4^2]\n"
     ]
    }
   ],
   "source": [
    "T = GL(m, K).random_element()\n",
    "S = GL(n, K).random_element()\n",
    "print(T,\"\\n\",S)\n",
    "print(T*F[1])"
   ]
  },
  {
   "cell_type": "code",
   "execution_count": null,
   "id": "a4e9e2de-b50a-4557-87ac-8e398177c7e1",
   "metadata": {},
   "outputs": [],
   "source": []
  }
 ],
 "metadata": {
  "kernelspec": {
   "display_name": "SageMath 10.5",
   "language": "sage",
   "name": "sagemath"
  },
  "language_info": {
   "codemirror_mode": {
    "name": "ipython",
    "version": 3
   },
   "file_extension": ".py",
   "mimetype": "text/x-python",
   "name": "python",
   "nbconvert_exporter": "python",
   "pygments_lexer": "ipython3",
   "version": "3.13.1"
  }
 },
 "nbformat": 4,
 "nbformat_minor": 5
}
