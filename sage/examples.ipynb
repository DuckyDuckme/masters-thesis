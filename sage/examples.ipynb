{
 "cells": [
  {
   "cell_type": "code",
   "execution_count": 23,
   "id": "686dfd51-ac56-4072-b28d-856b8cda0b27",
   "metadata": {},
   "outputs": [],
   "source": [
    "import numpy as np"
   ]
  },
  {
   "cell_type": "code",
   "execution_count": 20,
   "id": "3772125d-c6f7-4d8e-8b69-8ae24f8bf03b",
   "metadata": {},
   "outputs": [],
   "source": [
    "p = 13\n",
    "K = GF(p)\n",
    "n = 5\n",
    "R = PolynomialRing(K, x, n) #defines n variables over K\n",
    "R.inject_variables(verbose=False) # makes all the variables ready for use"
   ]
  },
  {
   "cell_type": "code",
   "execution_count": 44,
   "id": "2d982f3d-15ef-4c57-aacb-a714f7eb10c2",
   "metadata": {},
   "outputs": [
    {
     "data": {
      "text/plain": [
       "[-6*x2^2 + 4*x0*x3 - 4*x4^2,\n",
       " -x1*x2 - 4*x2^2 + 6*x1*x4 + 6*x0,\n",
       " -5*x2*x3 - 4*x3^2 - 3*x0 - 5*x2 + 4,\n",
       " 4*x0*x2 + x3*x4 - 2*x3 + 5*x4 - 5]"
      ]
     },
     "execution_count": 44,
     "metadata": {},
     "output_type": "execute_result"
    }
   ],
   "source": [
    "# generate two m-tuples of inhomogenous multivariate polynomials of degree 2\n",
    "m = 4\n",
    "\n",
    "F = []\n",
    "for i in range(m):\n",
    "    F.append(R.random_element(degree=2))\n",
    "F"
   ]
  },
  {
   "cell_type": "code",
   "execution_count": 46,
   "id": "320e96c9-57ed-45f6-be9c-f6d32ae25cb2",
   "metadata": {},
   "outputs": [
    {
     "name": "stdout",
     "output_type": "stream",
     "text": [
      "[ 6  6  0  9]\n",
      "[ 3  2  5 11]\n",
      "[ 2  8  4  2]\n",
      "[ 1  6  6 12] \n",
      " [ 3 11 11  3  5]\n",
      "[ 4  5  4  9  0]\n",
      "[ 2  0  0  9  9]\n",
      "[11 11  0 12  7]\n",
      "[ 9  3  8  0  5]\n",
      "[-6*x1*x2 + 2*x2^2 - 3*x1*x4 - 3*x0 -6*x1*x2 + 2*x2^2 - 3*x1*x4 - 3*x0                                  0  4*x1*x2 + 3*x2^2 + 2*x1*x4 + 2*x0]\n",
      "[  -3*x1*x2 + x2^2 + 5*x1*x4 + 5*x0     -2*x1*x2 + 5*x2^2 - x1*x4 - x0 -5*x1*x2 + 6*x2^2 + 4*x1*x4 + 4*x0      2*x1*x2 - 5*x2^2 + x1*x4 + x0]\n",
      "[    -2*x1*x2 + 5*x2^2 - x1*x4 - x0  5*x1*x2 - 6*x2^2 - 4*x1*x4 - 4*x0 -4*x1*x2 - 3*x2^2 - 2*x1*x4 - 2*x0     -2*x1*x2 + 5*x2^2 - x1*x4 - x0]\n",
      "[  -x1*x2 - 4*x2^2 + 6*x1*x4 + 6*x0 -6*x1*x2 + 2*x2^2 - 3*x1*x4 - 3*x0 -6*x1*x2 + 2*x2^2 - 3*x1*x4 - 3*x0    x1*x2 + 4*x2^2 - 6*x1*x4 - 6*x0]\n"
     ]
    }
   ],
   "source": [
    "# G = GL(m, K)\n",
    "T = GL(m, K).random_element()\n",
    "S = GL(n, K).random_element()\n",
    "print(T,\"\\n\",S)\n",
    "\n",
    "print(T*F[1])"
   ]
  }
 ],
 "metadata": {
  "kernelspec": {
   "display_name": "SageMath 10.5",
   "language": "sage",
   "name": "sagemath"
  },
  "language_info": {
   "codemirror_mode": {
    "name": "ipython",
    "version": 3
   },
   "file_extension": ".py",
   "mimetype": "text/x-python",
   "name": "python",
   "nbconvert_exporter": "python",
   "pygments_lexer": "ipython3",
   "version": "3.13.1"
  }
 },
 "nbformat": 4,
 "nbformat_minor": 5
}
