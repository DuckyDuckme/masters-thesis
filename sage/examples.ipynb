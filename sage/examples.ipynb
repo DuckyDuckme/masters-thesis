{
 "cells": [
  {
   "cell_type": "code",
   "execution_count": 132,
   "id": "e8206c0d",
   "metadata": {},
   "outputs": [],
   "source": [
    "import numpy as np\n",
    "\n",
    "p = 5\n",
    "K = GF(p)\n",
    "n = 3\n",
    "m = 2\n",
    "# R = PolynomialRing(K, x, n) # defines n variables over K\n",
    "# R.inject_variables(verbose=False) # makes all the variables ready for use"
   ]
  },
  {
   "cell_type": "code",
   "execution_count": null,
   "id": "ad06af97",
   "metadata": {},
   "outputs": [],
   "source": [
    "# class QuadraticForm(SageObject):\n",
    "# adjusted Gram matrix method that works for any ring of char != 2\n",
    "def my_Gram_matrix(self):\n",
    "    R = self.base_ring()\n",
    "    assert R.characteristic() != 2, \"Characteristic of the base ring cannot be 2.\"\n",
    "    A = (R(1) / R(2)) * self.matrix()\n",
    "    n = self.dim()\n",
    "\n",
    "    Int_flag = True\n",
    "    for i in range(n):\n",
    "        for j in range(i, n):\n",
    "            Int_flag &= A[i, j] in R\n",
    "\n",
    "    # Return the Gram matrix, or an error\n",
    "    if Int_flag:\n",
    "        return MatrixSpace(R, n, n)(A)\n",
    "    raise TypeError(\"this form does not have an integral Gram matrix\")\n",
    "\n",
    "QuadraticForm.my_Gram_matrix = my_Gram_matrix"
   ]
  },
  {
   "cell_type": "code",
   "execution_count": null,
   "id": "2a6cac91",
   "metadata": {},
   "outputs": [],
   "source": [
    "# given a polynomial f, output the matrix A, vector B and scalar C s.t.\n",
    "# f(x) = x^T Ax + Bx + C\n",
    "def quadratic_to_matrix(f):\n",
    "    h = f.homogeneous_components()\n",
    "    A = QuadraticForm(h.get(2)).my_Gram_matrix()\n",
    "    B = vector([])\n",
    "    C = 0\n",
    "\n",
    "    # try/except but for the poor ppl \n",
    "    if h.get(1) != None:\n",
    "        # we make a vector of the coefficients of each basis element\n",
    "        B = vector([h.get(1).coefficient(R.gens()[i]) for i in range(n)])\n",
    "\n",
    "    if h.get(0) != None:\n",
    "        C = h.get(0)\n",
    "\n",
    "    return A, B, C"
   ]
  },
  {
   "cell_type": "code",
   "execution_count": null,
   "id": "ccda966e",
   "metadata": {},
   "outputs": [],
   "source": [
    "# a function that simulates precomposition of a quadratic form\n",
    "# f(x) = x^T Ax + Bx + C with a n x n matrix S \n",
    "# so it returns f \\circ S \n",
    "def transform_input(S, A, B, C):\n",
    "    # this throws an error because S^T A S is a matrix but BS is a vector and you cannot\n",
    "    # put them in together in one vector\n",
    "    #\n",
    "    # it works if you return them separately, not in a vector\n",
    "    return S.transpose()*A*S, B*S, C"
   ]
  },
  {
   "cell_type": "code",
   "execution_count": 74,
   "id": "c9b728f3",
   "metadata": {},
   "outputs": [],
   "source": [
    "def random_symmetric_matrix(K, n):\n",
    "    # get a random matrix\n",
    "    A = random_matrix(K, n, n)\n",
    "    # and make it symmetric\n",
    "    return A + A.transpose()\n",
    "\n",
    "# returns A, B and C like above\n",
    "def random_quadratic_poly(K, n):\n",
    "    return random_symmetric_matrix(K, n), random_vector(K, n), K.random_element()"
   ]
  },
  {
   "cell_type": "code",
   "execution_count": 75,
   "id": "64519005",
   "metadata": {},
   "outputs": [],
   "source": [
    "class VectorOfMatrices:\n",
    "    def __init__(self, matrices):\n",
    "        self.matrices = matrices\n",
    "     \n",
    "    def __mul__(self, other):\n",
    "        # https://doc.sagemath.org/html/en/reference/matrices/sage/matrix/matrix_dense.html\n",
    "        if not isinstance(other, sage.matrix.matrix_dense.Matrix_dense):\n",
    "            raise TypeError(\"We only multiply by a matrix my dear\")\n",
    "\n",
    "        if other.ncols() != len(self.matrices):\n",
    "            raise ValueError(\"Matrix dimensions do not match\")\n",
    "\n",
    "        # multiply them by hand\n",
    "        result = [sum(other[i, j] * self.matrices[j] for j in range(len(self.matrices))) for i in range(other.nrows())]\n",
    "        # gives back a list\n",
    "        return result\n",
    "\n",
    "    def __repr__(self):\n",
    "        return f\"VectorOfMatrices(\\n{self.matrices})\"\n",
    "    \n",
    "    __rmul__ = __mul__"
   ]
  },
  {
   "cell_type": "code",
   "execution_count": 133,
   "id": "f7386911",
   "metadata": {},
   "outputs": [],
   "source": [
    "# an actual example\n",
    "# instead of generating an actual polynomial first \n",
    "# and then getting the corresponding matrices,\n",
    "# generate the matrices randomly\n",
    "\n",
    "# here are the actual transformations\n",
    "T = matrix(GL(m, K).random_element())\n",
    "S = matrix(GL(n, K).random_element())\n",
    "\n",
    "# We define the ring with enough variables for both our matrices\n",
    "R2  = PolynomialRing(K, n^2 + m^2, 'y')\n",
    "R2.inject_variables(verbose=False)\n",
    "\n",
    "# first n^2 elements of R2\n",
    "S_ = matrix(R2, n, n, R2.gens()[:n^2])\n",
    "\n",
    "# we get the last m^2 variables of R2\n",
    "T_ = matrix(R2, m, m, R2.gens()[-m^2:])\n",
    "# print(S_, T_)\n",
    "\n",
    "# generate whole ass m-sized vector of (homogenous) polynomials\n",
    "hom = []\n",
    "vec = []\n",
    "scal = []\n",
    "for i in range(m):\n",
    "    A = random_symmetric_matrix(K, n)\n",
    "    hom.append(A)\n",
    "    vec.append(random_vector(K, n))\n",
    "    scal.append(K.random_element())"
   ]
  },
  {
   "cell_type": "code",
   "execution_count": 140,
   "id": "f4e375e6",
   "metadata": {},
   "outputs": [
    {
     "name": "stdout",
     "output_type": "stream",
     "text": [
      "[-y0*y11 - y3*y11 - y6*y11 - 2*y0*y12 - y3*y12 + 2*y6*y12, 2*y1*y2*y9 + 2*y2*y4*y9 + 2*y1*y5*y9 - y4*y5*y9 - y7*y8*y9 - y1*y2*y10 + 2*y4*y5*y10 + 2*y2*y7*y10 + 2*y5*y7*y10 + 2*y1*y8*y10 + 2*y4*y8*y10 - 2*y7*y8*y10, 2*y2^2*y9 - y2*y5*y9 - y5^2*y9 - y8^2*y9 - y2^2*y10 + 2*y5^2*y10 - y2*y8*y10 - y5*y8*y10 - 2*y8^2*y10 - 1, 2*y1^2*y11 - y1*y4*y11 - y4^2*y11 - y7^2*y11 - y1^2*y12 + 2*y4^2*y12 - y1*y7*y12 - y4*y7*y12 - 2*y7^2*y12 - 2, 2*y0^2*y11 - y0*y3*y11 - y3^2*y11 - y6^2*y11 - y0^2*y12 + 2*y3^2*y12 - y0*y6*y12 - y3*y6*y12 - 2*y6^2*y12 + 1, y3^5 - y3, y5^5 - y5, -y11 - y12 + 1, -y0*y9 - y3*y9 - y6*y9 - 2*y0*y10 - y3*y10 + 2*y6*y10 + 1, y7^5 - y7, y8^5 - y8, y10^5 - y10, -y2*y9 - y5*y9 - y8*y9 - 2*y2*y10 - y5*y10 + 2*y8*y10 - 1, 2*y1*y2*y11 + 2*y2*y4*y11 + 2*y1*y5*y11 - y4*y5*y11 - y7*y8*y11 - y1*y2*y12 + 2*y4*y5*y12 + 2*y2*y7*y12 + 2*y5*y7*y12 + 2*y1*y8*y12 + 2*y4*y8*y12 - 2*y7*y8*y12 + 1, y4^5 - y4, y11^5 - y11, -y1*y11 - y4*y11 - y7*y11 - 2*y1*y12 - y4*y12 + 2*y7*y12 + 1, 2*y0*y2*y9 + 2*y2*y3*y9 + 2*y0*y5*y9 - y3*y5*y9 - y6*y8*y9 - y0*y2*y10 + 2*y3*y5*y10 + 2*y2*y6*y10 + 2*y5*y6*y10 + 2*y0*y8*y10 + 2*y3*y8*y10 - 2*y6*y8*y10 - 1, y6^5 - y6, y9^5 - y9, 2*y0*y1*y9 + 2*y1*y3*y9 + 2*y0*y4*y9 - y3*y4*y9 - y6*y7*y9 - y0*y1*y10 + 2*y3*y4*y10 + 2*y1*y6*y10 + 2*y4*y6*y10 + 2*y0*y7*y10 + 2*y3*y7*y10 - 2*y6*y7*y10 + 1, 2*y2^2*y11 - y2*y5*y11 - y5^2*y11 - y8^2*y11 - y2^2*y12 + 2*y5^2*y12 - y2*y8*y12 - y5*y8*y12 - 2*y8^2*y12 - 2, y0^5 - y0, y1^5 - y1, y12^5 - y12, 2*y0^2*y9 - y0*y3*y9 - y3^2*y9 - y6^2*y9 - y0^2*y10 + 2*y3^2*y10 - y0*y6*y10 - y3*y6*y10 - 2*y6^2*y10 - 2, 2*y0*y2*y11 + 2*y2*y3*y11 + 2*y0*y5*y11 - y3*y5*y11 - y6*y8*y11 - y0*y2*y12 + 2*y3*y5*y12 + 2*y2*y6*y12 + 2*y5*y6*y12 + 2*y0*y8*y12 + 2*y3*y8*y12 - 2*y6*y8*y12 - 1, -y2*y11 - y5*y11 - y8*y11 - 2*y2*y12 - y5*y12 + 2*y8*y12, y2^5 - y2, 2*y1^2*y9 - y1*y4*y9 - y4^2*y9 - y7^2*y9 - y1^2*y10 + 2*y4^2*y10 - y1*y7*y10 - y4*y7*y10 - 2*y7^2*y10 + 2, 2*y0*y1*y11 + 2*y1*y3*y11 + 2*y0*y4*y11 - y3*y4*y11 - y6*y7*y11 - y0*y1*y12 + 2*y3*y4*y12 + 2*y1*y6*y12 + 2*y4*y6*y12 + 2*y0*y7*y12 + 2*y3*y7*y12 - 2*y6*y7*y12 + 2, -y1*y9 - y4*y9 - y7*y9 - 2*y1*y10 - y4*y10 + 2*y7*y10 + 2, -y9 - y10 + 2]\n"
     ]
    }
   ],
   "source": [
    "# this is for the homogenous part S^T AS\n",
    "G = [S.transpose()*A*S for A in hom]\n",
    "G_ = [S_.transpose()*A*S_ for A in hom]\n",
    "\n",
    "v = VectorOfMatrices(G)\n",
    "v_ = VectorOfMatrices(G_)\n",
    "\n",
    "P  = [[],[],[]]\n",
    "P_ = [[],[],[]]\n",
    "P[0] = T*v\n",
    "P_[0] = T_*v_\n",
    "\n",
    "P[1] = T*matrix([B*S for B in vec])\n",
    "P_[1] = T_*matrix([B*S_ for B in vec])\n",
    "\n",
    "P[2] = T*vector(scal)\n",
    "P_[2] = T_*vector(scal)\n",
    "\n",
    "system = [y^p - y for y in R2.gens()]\n",
    "for i in range(m):\n",
    "    system += (P_[0][i] - P[0][i]).list()\n",
    "    system += (P_[1][i] - P[1][i]).list()\n",
    "    system += [P_[2][i] - P[2][i]]\n",
    "\n",
    "# print(system)\n",
    "# flat_system = [A for Ps in system for A in Ps]\n",
    "# print(flat_system)\n",
    "# the list(set(.)) removes the duplicates\n",
    "total_system = list(set(system))\n",
    "print(total_system)\n",
    "\n",
    "# for ps in P:\n",
    "    # print(ps, \"\\n\")\n",
    "# print(P_[2])\n",
    "# print(P_)"
   ]
  },
  {
   "cell_type": "code",
   "execution_count": 135,
   "id": "21c9249b-fda2-4c58-94e1-a70b2ec3632a",
   "metadata": {},
   "outputs": [
    {
     "name": "stdout",
     "output_type": "stream",
     "text": [
      "0\n",
      "[y12, y11 - 1, y10 - 1, y9 - 1, y8 - 2, y7 + 1, y6 + 1, y5 + 2, y4, y3 + 2, y2, y1 - 2, y0 + 2]\n",
      "[{y12: 0, y11: 1, y10: 1, y9: 1, y8: 2, y7: 4, y6: 4, y5: 3, y4: 0, y3: 3, y2: 0, y1: 2, y0: 3}]\n"
     ]
    }
   ],
   "source": [
    "set_verbose(0)\n",
    "I = R2.ideal(total_system)\n",
    "# J = R2.ideal(flat_system)\n",
    "print(I.dimension())\n",
    "J = I.groebner_basis(algorithm='msolve')\n",
    "print(J)\n",
    "Z = I.variety()\n",
    "# timeit.eval(\"Z = I.variety()\")\n",
    "print(Z)"
   ]
  },
  {
   "cell_type": "code",
   "execution_count": 138,
   "id": "a6f765c2-bd2a-457c-bafd-5dc2db29c67a",
   "metadata": {},
   "outputs": [
    {
     "data": {
      "text/plain": [
       "Ideal (2, y11 - 1, y10 - 1, y9 - 1, y8 - 2, y7 + 1, y6 + 1, y5 + 2, y4, y3 + 2, y2, 0, -2) of Multivariate Polynomial Ring in y0, y1, y2, y3, y4, y5, y6, y7, y8, y9, y10, y11, y12 over Finite Field of size 5"
      ]
     },
     "execution_count": 138,
     "metadata": {},
     "output_type": "execute_result"
    }
   ],
   "source": [
    "J.ideal().subs(y0=1, y1=2, y12=2)"
   ]
  },
  {
   "cell_type": "code",
   "execution_count": null,
   "id": "8710c50c-6fe7-49a1-b275-20cab8a9ec3c",
   "metadata": {},
   "outputs": [],
   "source": [
    "L = [f.subs(v) for f in I.gens() for v in Z]\n",
    "all(f.subs(v) == 0 for f in I.gens() for v in Z)"
   ]
  },
  {
   "cell_type": "code",
   "execution_count": 16,
   "id": "ee02d8da-481d-47c1-86e1-fdf417d46829",
   "metadata": {},
   "outputs": [
    {
     "name": "stdout",
     "output_type": "stream",
     "text": [
      "Polynomial Sequence with 57 Polynomials in 13 Variables\n"
     ]
    }
   ],
   "source": [
    "# from sage.rings.polynomial.msolve import groebner_basis_degrevlex\n",
    "# help(variety)\n",
    "# Z = variety(I, K, proof=False)\n",
    "# G = groebner_basis_degrevlex(I)\n",
    "# sorted(variety(I, K, proof=False), key=str)\n",
    "# print(Z)\n"
   ]
  },
  {
   "cell_type": "code",
   "execution_count": 34,
   "id": "f389ee3b-e58a-458e-9732-70435dace307",
   "metadata": {},
   "outputs": [],
   "source": [
    "# given a system of polynomials, check if it correctly corresponds\n",
    "# to the actual matrices it was created from\n",
    "#\n",
    "# system is a list of multivariate polynomials\n",
    "# S and T are matrices\n",
    "def verify_system(system, S, T):\n",
    "    point = S.list()+T.list()\n",
    "    return all(f(point) == 0 for f in system)"
   ]
  },
  {
   "cell_type": "code",
   "execution_count": 41,
   "id": "09c9266c-0782-4120-b4f7-279567f19a38",
   "metadata": {},
   "outputs": [
    {
     "ename": "TypeError",
     "evalue": "'MPolynomialIdeal' object is not iterable",
     "output_type": "error",
     "traceback": [
      "\u001b[0;31m---------------------------------------------------------------------------\u001b[0m",
      "\u001b[0;31mTypeError\u001b[0m                                 Traceback (most recent call last)",
      "Cell \u001b[0;32mIn[41], line 1\u001b[0m\n\u001b[0;32m----> 1\u001b[0m \u001b[43mverify_system\u001b[49m\u001b[43m(\u001b[49m\u001b[43mJ\u001b[49m\u001b[38;5;241;43m.\u001b[39;49m\u001b[43mideal\u001b[49m\u001b[43m(\u001b[49m\u001b[43m)\u001b[49m\u001b[43m,\u001b[49m\u001b[43m \u001b[49m\u001b[43mS\u001b[49m\u001b[43m,\u001b[49m\u001b[43m \u001b[49m\u001b[43mT\u001b[49m\u001b[43m)\u001b[49m\n",
      "Cell \u001b[0;32mIn[34], line 8\u001b[0m, in \u001b[0;36mverify_system\u001b[0;34m(system, S, T)\u001b[0m\n\u001b[1;32m      6\u001b[0m \u001b[38;5;28;01mdef\u001b[39;00m\u001b[38;5;250m \u001b[39m\u001b[38;5;21mverify_system\u001b[39m(system, S, T):\n\u001b[1;32m      7\u001b[0m     point \u001b[38;5;241m=\u001b[39m S\u001b[38;5;241m.\u001b[39mlist()\u001b[38;5;241m+\u001b[39mT\u001b[38;5;241m.\u001b[39mlist()\n\u001b[0;32m----> 8\u001b[0m     \u001b[38;5;28;01mreturn\u001b[39;00m \u001b[38;5;28mall\u001b[39m\u001b[43m(\u001b[49m\u001b[43mf\u001b[49m\u001b[43m(\u001b[49m\u001b[43mpoint\u001b[49m\u001b[43m)\u001b[49m\u001b[43m \u001b[49m\u001b[38;5;241;43m==\u001b[39;49m\u001b[43m \u001b[49m\u001b[43mInteger\u001b[49m\u001b[43m(\u001b[49m\u001b[38;5;241;43m0\u001b[39;49m\u001b[43m)\u001b[49m\u001b[43m \u001b[49m\u001b[38;5;28;43;01mfor\u001b[39;49;00m\u001b[43m \u001b[49m\u001b[43mf\u001b[49m\u001b[43m \u001b[49m\u001b[38;5;129;43;01min\u001b[39;49;00m\u001b[43m \u001b[49m\u001b[43msystem\u001b[49m\u001b[43m)\u001b[49m\n",
      "\u001b[0;31mTypeError\u001b[0m: 'MPolynomialIdeal' object is not iterable"
     ]
    }
   ],
   "source": [
    "verify_system(J.ideal(), S, T)"
   ]
  }
 ],
 "metadata": {
  "kernelspec": {
   "display_name": "SageMath 10.5",
   "language": "sage",
   "name": "sagemath"
  },
  "language_info": {
   "codemirror_mode": {
    "name": "ipython",
    "version": 3
   },
   "file_extension": ".py",
   "mimetype": "text/x-python",
   "name": "python",
   "nbconvert_exporter": "python",
   "pygments_lexer": "ipython3",
   "version": "3.13.2"
  }
 },
 "nbformat": 4,
 "nbformat_minor": 5
}
