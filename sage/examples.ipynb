{
 "cells": [
  {
   "cell_type": "code",
   "execution_count": 120,
   "id": "7997c5b5-b262-4826-ab25-56c9dab3725c",
   "metadata": {},
   "outputs": [],
   "source": [
    "# from types import MethodType # i dont think you need this at all\n",
    "\n",
    "p = 13\n",
    "K = GF(p)\n",
    "n = 5\n",
    "m = 4\n",
    "R = PolynomialRing(K, x, n) # defines n variables over K\n",
    "R.inject_variables(verbose=False) # makes all the variables ready for use"
   ]
  },
  {
   "cell_type": "code",
   "execution_count": 118,
   "id": "a547f154-0096-4014-855b-533ed587ee3d",
   "metadata": {},
   "outputs": [],
   "source": [
    "# generate two m-tuples of inhomogenous multivariate polynomials of degree 2,\n",
    "\n",
    "F = []\n",
    "P = []\n",
    "for i in range(m):\n",
    "    F.append(R.random_element(degree=2))\n",
    "    P.append(R.random_element(degree=2))\n",
    "\n",
    "f = vector(F)\n",
    "p = vector(P)"
   ]
  },
  {
   "cell_type": "code",
   "execution_count": 124,
   "id": "33059be2-f669-433d-9527-1c25ed9cecb8",
   "metadata": {},
   "outputs": [],
   "source": [
    "# class QuadraticForm(SageObject):\n",
    "# adjusted Gram matrix method that works for any ring of char != 2\n",
    "def my_Gram_matrix(self):\n",
    "    R = self.base_ring()\n",
    "    assert R.characteristic() != 2, \"Characteristic of the base ring cannot be 2.\"\n",
    "    A = (R(1) / R(2)) * self.matrix()\n",
    "    n = self.dim()\n",
    "\n",
    "    # Test to see if it has an integral Gram matrix\n",
    "    Int_flag = True\n",
    "    for i in range(n):\n",
    "        for j in range(i, n):\n",
    "            Int_flag &= A[i, j] in R\n",
    "\n",
    "    # Return the Gram matrix, or an error\n",
    "    if Int_flag:\n",
    "        return MatrixSpace(R, n, n)(A)\n",
    "    raise TypeError(\"this form does not have an integral Gram matrix\")\n",
    "\n",
    "QuadraticForm.my_Gram_matrix = my_Gram_matrix"
   ]
  },
  {
   "cell_type": "code",
   "execution_count": 122,
   "id": "2109a390-5694-467a-99e9-489de03458e5",
   "metadata": {},
   "outputs": [],
   "source": [
    "# given a polynomial f, output the matrix A, vector B and scalar C s.t.\n",
    "# f(x) = x^T Ax + Bx + C\n",
    "def quadratic_to_matrix(f):\n",
    "    h = f.homogeneous_components()\n",
    "    A = QuadraticForm(h.get(2)).my_Gram_matrix()\n",
    "    B = vector([])\n",
    "    C = 0\n",
    "\n",
    "    # try/except but for the poor ppl \n",
    "    if h.get(1) != None:\n",
    "        # we make a vector of the coefficients of each basis element\n",
    "        B = vector([h.get(1).coefficient(R.gens()[i]) for i in range(n)])\n",
    "\n",
    "    if h.get(0) != None:\n",
    "        C = h.get(0)\n",
    "\n",
    "    return A, B, C"
   ]
  },
  {
   "cell_type": "code",
   "execution_count": 113,
   "id": "3af93a6b-4a00-4f24-8cdc-94fc7e56dc64",
   "metadata": {},
   "outputs": [],
   "source": [
    "# a function that simulates precomposition of a quadratic form\n",
    "# f(x) = x^T Ax + Bx + C with a n x n matrix S \n",
    "# so it returns f \\circ S \n",
    "def transform_input(S, A, B, C):\n",
    "    # this throws an error because S^T A S is a matrix but BS is a vector and you cannot\n",
    "    # put them in together in one vector\n",
    "    #\n",
    "    # it works if you return them separately, not in a vector\n",
    "    return vector(K, [S.transpose()*A*S, B*S, C])"
   ]
  },
  {
   "cell_type": "code",
   "execution_count": 86,
   "id": "401ecf1e-cc06-4c12-933a-983988c07d4e",
   "metadata": {},
   "outputs": [
    {
     "name": "stdout",
     "output_type": "stream",
     "text": [
      "[ y0  y1  y2  y3  y4]\n",
      "[ y5  y6  y7  y8  y9]\n",
      "[y10 y11 y12 y13 y14]\n",
      "[y15 y16 y17 y18 y19]\n",
      "[y20 y21 y22 y23 y24] [y25 y26 y27 y28]\n",
      "[y29 y30 y31 y32]\n",
      "[y33 y34 y35 y36]\n",
      "[y37 y38 y39 y40] [ 0  0  0  0  1]\n",
      "[ 0  0  0  3  0]\n",
      "[ 0  0  0  0  0]\n",
      "[ 0  3  0  0 12]\n",
      "[ 1  0  0 12  0] (0, 0, 5, 0, 0) -5\n"
     ]
    }
   ],
   "source": [
    "# We define the ring with enough variables for both our matrices\n",
    "R2  = PolynomialRing(K, n^2 + m^2, 'y')\n",
    "\n",
    "# first n^2 elements of R2\n",
    "S = matrix(R2, n, n, R2.gens()[:n^2])\n",
    "\n",
    "# we get the last m^2 variables of R2\n",
    "T = matrix(R2, m, m, R2.gens()[-m^2:])\n",
    "print(S, T, A, B, C)"
   ]
  },
  {
   "cell_type": "code",
   "execution_count": 114,
   "id": "a2a6b521-b2c2-428d-b1ff-5b13326d61a0",
   "metadata": {},
   "outputs": [],
   "source": [
    "def random_symmetric_matrix(K, n):\n",
    "    # get a random matrix\n",
    "    A = random_matrix(K, n, n)\n",
    "    # and make it symmetric\n",
    "    return (A + A.transpose()) / 2\n",
    "\n",
    "# returns A, B and C like above\n",
    "def random_quadratic_poly(K, n):\n",
    "    return random_symmetric_matrix(K, n), random_vector(K, n), K.random_element()"
   ]
  },
  {
   "cell_type": "code",
   "execution_count": 117,
   "id": "76b3fda2-06fa-45ed-80ab-9d6c6e7a1db7",
   "metadata": {},
   "outputs": [
    {
     "ename": "TypeError",
     "evalue": "unable to convert [ 5  4  5 12  4]\n[ 4 11  2  9  7]\n[ 5  2 10  8 12]\n[12  9  8 11  5]\n[ 4  7 12  5 10] to an element of Finite Field of size 13",
     "output_type": "error",
     "traceback": [
      "\u001b[0;31m---------------------------------------------------------------------------\u001b[0m",
      "\u001b[0;31mTypeError\u001b[0m                                 Traceback (most recent call last)",
      "File \u001b[0;32m/usr/lib/python3.13/site-packages/sage/rings/finite_rings/integer_mod.pyx:391\u001b[0m, in \u001b[0;36msage.rings.finite_rings.integer_mod.IntegerMod_abstract.__init__ (build/cythonized/sage/rings/finite_rings/integer_mod.c:12885)\u001b[0;34m()\u001b[0m\n\u001b[1;32m    390\u001b[0m try:\n\u001b[0;32m--> 391\u001b[0m     z = integer_ring.Z(value)\n\u001b[1;32m    392\u001b[0m except (TypeError, ValueError):\n",
      "File \u001b[0;32m/usr/lib/python3.13/site-packages/sage/structure/parent.pyx:901\u001b[0m, in \u001b[0;36msage.structure.parent.Parent.__call__ (build/cythonized/sage/structure/parent.c:12763)\u001b[0;34m()\u001b[0m\n\u001b[1;32m    900\u001b[0m if no_extra_args:\n\u001b[0;32m--> 901\u001b[0m     return mor._call_(x)\n\u001b[1;32m    902\u001b[0m else:\n",
      "File \u001b[0;32m/usr/lib/python3.13/site-packages/sage/structure/coerce_maps.pyx:164\u001b[0m, in \u001b[0;36msage.structure.coerce_maps.DefaultConvertMap_unique._call_ (build/cythonized/sage/structure/coerce_maps.c:6980)\u001b[0;34m()\u001b[0m\n\u001b[1;32m    163\u001b[0m     print(type(C._element_constructor), C._element_constructor)\n\u001b[0;32m--> 164\u001b[0m raise\n\u001b[1;32m    165\u001b[0m \n",
      "File \u001b[0;32m/usr/lib/python3.13/site-packages/sage/structure/coerce_maps.pyx:159\u001b[0m, in \u001b[0;36msage.structure.coerce_maps.DefaultConvertMap_unique._call_ (build/cythonized/sage/structure/coerce_maps.c:6872)\u001b[0;34m()\u001b[0m\n\u001b[1;32m    158\u001b[0m try:\n\u001b[0;32m--> 159\u001b[0m     return C._element_constructor(x)\n\u001b[1;32m    160\u001b[0m except Exception:\n",
      "File \u001b[0;32m/usr/lib/python3.13/site-packages/sage/rings/integer.pyx:723\u001b[0m, in \u001b[0;36msage.rings.integer.Integer.__init__ (build/cythonized/sage/rings/integer.c:15887)\u001b[0;34m()\u001b[0m\n\u001b[1;32m    722\u001b[0m \n\u001b[0;32m--> 723\u001b[0m                 raise TypeError(\"unable to coerce %s to an integer\" % type(x))\n\u001b[1;32m    724\u001b[0m \n",
      "\u001b[0;31mTypeError\u001b[0m: unable to coerce <class 'sage.matrix.matrix_modn_dense_float.Matrix_modn_dense_float'> to an integer",
      "\nDuring handling of the above exception, another exception occurred:\n",
      "\u001b[0;31mTypeError\u001b[0m                                 Traceback (most recent call last)",
      "File \u001b[0;32m/usr/lib/python3.13/site-packages/sage/structure/sequence.py:442\u001b[0m, in \u001b[0;36mSequence_generic.__init__\u001b[0;34m(self, x, universe, check, immutable, cr, cr_str, use_sage_types)\u001b[0m\n\u001b[1;32m    441\u001b[0m \u001b[38;5;28;01mtry\u001b[39;00m:\n\u001b[0;32m--> 442\u001b[0m     x[i] \u001b[38;5;241m=\u001b[39m \u001b[43muniverse\u001b[49m\u001b[43m(\u001b[49m\u001b[43mx\u001b[49m\u001b[43m[\u001b[49m\u001b[43mi\u001b[49m\u001b[43m]\u001b[49m\u001b[43m)\u001b[49m\n\u001b[1;32m    443\u001b[0m \u001b[38;5;28;01mexcept\u001b[39;00m \u001b[38;5;167;01mTypeError\u001b[39;00m:\n",
      "File \u001b[0;32m/usr/lib/python3.13/site-packages/sage/structure/parent.pyx:901\u001b[0m, in \u001b[0;36msage.structure.parent.Parent.__call__ (build/cythonized/sage/structure/parent.c:12763)\u001b[0;34m()\u001b[0m\n\u001b[1;32m    900\u001b[0m if no_extra_args:\n\u001b[0;32m--> 901\u001b[0m     return mor._call_(x)\n\u001b[1;32m    902\u001b[0m else:\n",
      "File \u001b[0;32m/usr/lib/python3.13/site-packages/sage/structure/coerce_maps.pyx:164\u001b[0m, in \u001b[0;36msage.structure.coerce_maps.DefaultConvertMap_unique._call_ (build/cythonized/sage/structure/coerce_maps.c:6980)\u001b[0;34m()\u001b[0m\n\u001b[1;32m    163\u001b[0m     print(type(C._element_constructor), C._element_constructor)\n\u001b[0;32m--> 164\u001b[0m raise\n\u001b[1;32m    165\u001b[0m \n",
      "File \u001b[0;32m/usr/lib/python3.13/site-packages/sage/structure/coerce_maps.pyx:159\u001b[0m, in \u001b[0;36msage.structure.coerce_maps.DefaultConvertMap_unique._call_ (build/cythonized/sage/structure/coerce_maps.c:6872)\u001b[0;34m()\u001b[0m\n\u001b[1;32m    158\u001b[0m try:\n\u001b[0;32m--> 159\u001b[0m     return C._element_constructor(x)\n\u001b[1;32m    160\u001b[0m except Exception:\n",
      "File \u001b[0;32m/usr/lib/python3.13/site-packages/sage/rings/finite_rings/integer_mod_ring.py:1173\u001b[0m, in \u001b[0;36mIntegerModRing_generic._element_constructor_\u001b[0;34m(self, x)\u001b[0m\n\u001b[1;32m   1172\u001b[0m \u001b[38;5;28;01mtry\u001b[39;00m:\n\u001b[0;32m-> 1173\u001b[0m     \u001b[38;5;28;01mreturn\u001b[39;00m \u001b[43minteger_mod\u001b[49m\u001b[38;5;241;43m.\u001b[39;49m\u001b[43mIntegerMod\u001b[49m\u001b[43m(\u001b[49m\u001b[38;5;28;43mself\u001b[39;49m\u001b[43m,\u001b[49m\u001b[43m \u001b[49m\u001b[43mx\u001b[49m\u001b[43m)\u001b[49m\n\u001b[1;32m   1174\u001b[0m \u001b[38;5;28;01mexcept\u001b[39;00m (\u001b[38;5;167;01mNotImplementedError\u001b[39;00m, PariError):\n",
      "File \u001b[0;32m/usr/lib/python3.13/site-packages/sage/rings/finite_rings/integer_mod.pyx:204\u001b[0m, in \u001b[0;36msage.rings.finite_rings.integer_mod.IntegerMod (build/cythonized/sage/rings/finite_rings/integer_mod.c:11252)\u001b[0;34m()\u001b[0m\n\u001b[1;32m    203\u001b[0m t = modulus.element_class()\n\u001b[0;32m--> 204\u001b[0m return t(parent, value)\n\u001b[1;32m    205\u001b[0m \n",
      "File \u001b[0;32m/usr/lib/python3.13/site-packages/sage/rings/finite_rings/integer_mod.pyx:399\u001b[0m, in \u001b[0;36msage.rings.finite_rings.integer_mod.IntegerMod_abstract.__init__ (build/cythonized/sage/rings/finite_rings/integer_mod.c:13120)\u001b[0;34m()\u001b[0m\n\u001b[1;32m    398\u001b[0m if isinstance(value, Element) and value.parent().is_exact():\n\u001b[0;32m--> 399\u001b[0m     value = sage.rings.rational_field.QQ(value)\n\u001b[1;32m    400\u001b[0m     z = value % self._modulus.sageInteger\n",
      "File \u001b[0;32m/usr/lib/python3.13/site-packages/sage/structure/parent.pyx:901\u001b[0m, in \u001b[0;36msage.structure.parent.Parent.__call__ (build/cythonized/sage/structure/parent.c:12763)\u001b[0;34m()\u001b[0m\n\u001b[1;32m    900\u001b[0m if no_extra_args:\n\u001b[0;32m--> 901\u001b[0m     return mor._call_(x)\n\u001b[1;32m    902\u001b[0m else:\n",
      "File \u001b[0;32m/usr/lib/python3.13/site-packages/sage/structure/coerce_maps.pyx:164\u001b[0m, in \u001b[0;36msage.structure.coerce_maps.DefaultConvertMap_unique._call_ (build/cythonized/sage/structure/coerce_maps.c:6980)\u001b[0;34m()\u001b[0m\n\u001b[1;32m    163\u001b[0m     print(type(C._element_constructor), C._element_constructor)\n\u001b[0;32m--> 164\u001b[0m raise\n\u001b[1;32m    165\u001b[0m \n",
      "File \u001b[0;32m/usr/lib/python3.13/site-packages/sage/structure/coerce_maps.pyx:159\u001b[0m, in \u001b[0;36msage.structure.coerce_maps.DefaultConvertMap_unique._call_ (build/cythonized/sage/structure/coerce_maps.c:6872)\u001b[0;34m()\u001b[0m\n\u001b[1;32m    158\u001b[0m try:\n\u001b[0;32m--> 159\u001b[0m     return C._element_constructor(x)\n\u001b[1;32m    160\u001b[0m except Exception:\n",
      "File \u001b[0;32m/usr/lib/python3.13/site-packages/sage/rings/rational.pyx:554\u001b[0m, in \u001b[0;36msage.rings.rational.Rational.__init__ (build/cythonized/sage/rings/rational.cpp:14760)\u001b[0;34m()\u001b[0m\n\u001b[1;32m    553\u001b[0m if x is not None:\n\u001b[0;32m--> 554\u001b[0m     self.__set_value(x, base)\n\u001b[1;32m    555\u001b[0m \n",
      "File \u001b[0;32m/usr/lib/python3.13/site-packages/sage/rings/rational.pyx:699\u001b[0m, in \u001b[0;36msage.rings.rational.Rational._Rational__set_value (build/cythonized/sage/rings/rational.cpp:16847)\u001b[0;34m()\u001b[0m\n\u001b[1;32m    698\u001b[0m else:\n\u001b[0;32m--> 699\u001b[0m     raise TypeError(\"unable to convert {!r} to a rational\".format(x))\n\u001b[1;32m    700\u001b[0m \n",
      "\u001b[0;31mTypeError\u001b[0m: unable to convert [ 5  4  5 12  4]\n[ 4 11  2  9  7]\n[ 5  2 10  8 12]\n[12  9  8 11  5]\n[ 4  7 12  5 10] to a rational",
      "\nDuring handling of the above exception, another exception occurred:\n",
      "\u001b[0;31mTypeError\u001b[0m                                 Traceback (most recent call last)",
      "Cell \u001b[0;32mIn[117], line 16\u001b[0m\n\u001b[1;32m     14\u001b[0m i \u001b[38;5;241m=\u001b[39m Integer(\u001b[38;5;241m0\u001b[39m)\n\u001b[1;32m     15\u001b[0m A, B, C \u001b[38;5;241m=\u001b[39m random_quadratic_poly(K, n)\n\u001b[0;32m---> 16\u001b[0m \u001b[38;5;28mprint\u001b[39m(\u001b[43mtransform_input\u001b[49m\u001b[43m(\u001b[49m\u001b[43mS\u001b[49m\u001b[43m,\u001b[49m\u001b[43m \u001b[49m\u001b[43mA\u001b[49m\u001b[43m,\u001b[49m\u001b[43m \u001b[49m\u001b[43mB\u001b[49m\u001b[43m,\u001b[49m\u001b[43m \u001b[49m\u001b[43mC\u001b[49m\u001b[43m)\u001b[49m)\n\u001b[1;32m     17\u001b[0m     \u001b[38;5;66;03m# F[i][0] = STAS\u001b[39;00m\n\u001b[1;32m     18\u001b[0m     \u001b[38;5;66;03m# F[i][1] = BS\u001b[39;00m\n\u001b[1;32m     19\u001b[0m     \u001b[38;5;66;03m# F[i][2] = CS\u001b[39;00m\n\u001b[1;32m     21\u001b[0m \u001b[38;5;28mprint\u001b[39m(F[Integer(\u001b[38;5;241m1\u001b[39m)])\n",
      "Cell \u001b[0;32mIn[113], line 5\u001b[0m, in \u001b[0;36mtransform_input\u001b[0;34m(S, A, B, C)\u001b[0m\n\u001b[1;32m      4\u001b[0m \u001b[38;5;28;01mdef\u001b[39;00m\u001b[38;5;250m \u001b[39m\u001b[38;5;21mtransform_input\u001b[39m(S, A, B, C):\n\u001b[0;32m----> 5\u001b[0m     \u001b[38;5;28;01mreturn\u001b[39;00m \u001b[43mvector\u001b[49m\u001b[43m(\u001b[49m\u001b[43mK\u001b[49m\u001b[43m,\u001b[49m\u001b[43m \u001b[49m\u001b[43m[\u001b[49m\u001b[43mS\u001b[49m\u001b[38;5;241;43m.\u001b[39;49m\u001b[43mtranspose\u001b[49m\u001b[43m(\u001b[49m\u001b[43m)\u001b[49m\u001b[38;5;241;43m*\u001b[39;49m\u001b[43mA\u001b[49m\u001b[38;5;241;43m*\u001b[39;49m\u001b[43mS\u001b[49m\u001b[43m,\u001b[49m\u001b[43m \u001b[49m\u001b[43mB\u001b[49m\u001b[38;5;241;43m*\u001b[39;49m\u001b[43mS\u001b[49m\u001b[43m,\u001b[49m\u001b[43m \u001b[49m\u001b[43mC\u001b[49m\u001b[43m]\u001b[49m\u001b[43m)\u001b[49m\n",
      "File \u001b[0;32m/usr/lib/python3.13/site-packages/sage/modules/free_module_element.pyx:609\u001b[0m, in \u001b[0;36msage.modules.free_module_element.vector (build/cythonized/sage/modules/free_module_element.c:11419)\u001b[0;34m()\u001b[0m\n\u001b[1;32m    607\u001b[0m         sparse = False\n\u001b[1;32m    608\u001b[0m \n\u001b[0;32m--> 609\u001b[0m v, R = prepare(v, R, degree)\n\u001b[1;32m    610\u001b[0m \n\u001b[1;32m    611\u001b[0m M = FreeModule(R, len(v), bool(sparse))\n",
      "File \u001b[0;32m/usr/lib/python3.13/site-packages/sage/modules/free_module_element.pyx:707\u001b[0m, in \u001b[0;36msage.modules.free_module_element.prepare (build/cythonized/sage/modules/free_module_element.c:12045)\u001b[0;34m()\u001b[0m\n\u001b[1;32m    705\u001b[0m     except TypeError:\n\u001b[1;32m    706\u001b[0m         pass\n\u001b[0;32m--> 707\u001b[0m v = Sequence(v, universe=R, use_sage_types=True)\n\u001b[1;32m    708\u001b[0m ring = v.universe()\n\u001b[1;32m    709\u001b[0m if ring not in Rings():\n",
      "File \u001b[0;32m/usr/lib/python3.13/site-packages/sage/structure/sequence.py:263\u001b[0m, in \u001b[0;36mSequence\u001b[0;34m(x, universe, check, immutable, cr, cr_str, use_sage_types)\u001b[0m\n\u001b[1;32m    260\u001b[0m     \u001b[38;5;28;01mif\u001b[39;00m \u001b[38;5;28misinstance\u001b[39m(universe, MPolynomialRing_base) \u001b[38;5;129;01mor\u001b[39;00m \u001b[38;5;28misinstance\u001b[39m(universe, BooleanMonomialMonoid) \u001b[38;5;129;01mor\u001b[39;00m (\u001b[38;5;28misinstance\u001b[39m(universe, QuotientRing_nc) \u001b[38;5;129;01mand\u001b[39;00m \u001b[38;5;28misinstance\u001b[39m(universe\u001b[38;5;241m.\u001b[39mcover_ring(), MPolynomialRing_base)):\n\u001b[1;32m    261\u001b[0m         \u001b[38;5;28;01mreturn\u001b[39;00m PolynomialSequence(x, universe, immutable\u001b[38;5;241m=\u001b[39mimmutable, cr\u001b[38;5;241m=\u001b[39mcr, cr_str\u001b[38;5;241m=\u001b[39mcr_str)\n\u001b[0;32m--> 263\u001b[0m \u001b[38;5;28;01mreturn\u001b[39;00m \u001b[43mSequence_generic\u001b[49m\u001b[43m(\u001b[49m\u001b[43mx\u001b[49m\u001b[43m,\u001b[49m\u001b[43m \u001b[49m\u001b[43muniverse\u001b[49m\u001b[43m,\u001b[49m\u001b[43m \u001b[49m\u001b[43mcheck\u001b[49m\u001b[43m,\u001b[49m\u001b[43m \u001b[49m\u001b[43mimmutable\u001b[49m\u001b[43m,\u001b[49m\u001b[43m \u001b[49m\u001b[43mcr\u001b[49m\u001b[43m,\u001b[49m\u001b[43m \u001b[49m\u001b[43mcr_str\u001b[49m\u001b[43m,\u001b[49m\u001b[43m \u001b[49m\u001b[43muse_sage_types\u001b[49m\u001b[43m)\u001b[49m\n",
      "File \u001b[0;32m/usr/lib/python3.13/site-packages/sage/structure/sequence.py:444\u001b[0m, in \u001b[0;36mSequence_generic.__init__\u001b[0;34m(self, x, universe, check, immutable, cr, cr_str, use_sage_types)\u001b[0m\n\u001b[1;32m    442\u001b[0m             x[i] \u001b[38;5;241m=\u001b[39m universe(x[i])\n\u001b[1;32m    443\u001b[0m         \u001b[38;5;28;01mexcept\u001b[39;00m \u001b[38;5;167;01mTypeError\u001b[39;00m:\n\u001b[0;32m--> 444\u001b[0m             \u001b[38;5;28;01mraise\u001b[39;00m \u001b[38;5;167;01mTypeError\u001b[39;00m(\u001b[38;5;124m\"\u001b[39m\u001b[38;5;124munable to convert \u001b[39m\u001b[38;5;132;01m{}\u001b[39;00m\u001b[38;5;124m to an element of \u001b[39m\u001b[38;5;132;01m{}\u001b[39;00m\u001b[38;5;124m\"\u001b[39m\n\u001b[1;32m    445\u001b[0m                             \u001b[38;5;241m.\u001b[39mformat(x[i], universe))\n\u001b[1;32m    446\u001b[0m \u001b[38;5;28mlist\u001b[39m\u001b[38;5;241m.\u001b[39m\u001b[38;5;21m__init__\u001b[39m(\u001b[38;5;28mself\u001b[39m, x)\n\u001b[1;32m    447\u001b[0m \u001b[38;5;28mself\u001b[39m\u001b[38;5;241m.\u001b[39m_is_immutable \u001b[38;5;241m=\u001b[39m immutable\n",
      "\u001b[0;31mTypeError\u001b[0m: unable to convert [ 5  4  5 12  4]\n[ 4 11  2  9  7]\n[ 5  2 10  8 12]\n[12  9  8 11  5]\n[ 4  7 12  5 10] to an element of Finite Field of size 13"
     ]
    }
   ],
   "source": [
    "# an actual example\n",
    "# instead of generating an actual polynomial first \n",
    "# and then getting the corresponding matrices,\n",
    "# generate the matrices randomly\n",
    "\n",
    "# here are the actual transformations\n",
    "T = matrix(GL(m, K).random_element())\n",
    "S = matrix(GL(n, K).random_element())\n",
    "\n",
    "# generate a whole ass m-sized vector of polynomials\n",
    "F = zero_matrix(K, m, 3)\n",
    "# for i in range(m):\n",
    "\n",
    "i = 0\n",
    "A, B, C = random_quadratic_poly(K, n)\n",
    "print(transform_input(S, A, B, C))\n",
    "    \n",
    "print(F[1])"
   ]
  }
 ],
 "metadata": {
  "kernelspec": {
   "display_name": "SageMath 10.5",
   "language": "sage",
   "name": "sagemath"
  },
  "language_info": {
   "codemirror_mode": {
    "name": "ipython",
    "version": 3
   },
   "file_extension": ".py",
   "mimetype": "text/x-python",
   "name": "python",
   "nbconvert_exporter": "python",
   "pygments_lexer": "ipython3",
   "version": "3.13.1"
  }
 },
 "nbformat": 4,
 "nbformat_minor": 5
}
