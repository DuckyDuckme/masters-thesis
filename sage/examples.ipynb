{
 "cells": [
  {
   "cell_type": "code",
   "execution_count": 283,
   "id": "e8206c0d",
   "metadata": {},
   "outputs": [],
   "source": [
    "import numpy as np\n",
    "\n",
    "p = 3\n",
    "K = GF(p)\n",
    "n = 3\n",
    "m = 2\n",
    "# R = PolynomialRing(K, x, n) # defines n variables over K\n",
    "# R.inject_variables(verbose=False) # makes all the variables ready for use"
   ]
  },
  {
   "cell_type": "code",
   "execution_count": 284,
   "id": "ad06af97",
   "metadata": {},
   "outputs": [],
   "source": [
    "# class QuadraticForm(SageObject):\n",
    "# adjusted Gram matrix method that works for any ring of char != 2\n",
    "def my_Gram_matrix(self):\n",
    "    R = self.base_ring()\n",
    "    assert R.characteristic() != 2, \"Characteristic of the base ring cannot be 2.\"\n",
    "    A = (R(1) / R(2)) * self.matrix()\n",
    "    n = self.dim()\n",
    "\n",
    "    Int_flag = True\n",
    "    for i in range(n):\n",
    "        for j in range(i, n):\n",
    "            Int_flag &= A[i, j] in R\n",
    "\n",
    "    # Return the Gram matrix, or an error\n",
    "    if Int_flag:\n",
    "        return MatrixSpace(R, n, n)(A)\n",
    "    raise TypeError(\"this form does not have an integral Gram matrix\")\n",
    "\n",
    "QuadraticForm.my_Gram_matrix = my_Gram_matrix"
   ]
  },
  {
   "cell_type": "code",
   "execution_count": 210,
   "id": "2a6cac91",
   "metadata": {},
   "outputs": [],
   "source": [
    "# given a polynomial f, output the matrix A, vector B and scalar C s.t.\n",
    "# f(x) = x^T Ax + Bx + C\n",
    "def quadratic_to_matrix(f):\n",
    "    h = f.homogeneous_components()\n",
    "    A = QuadraticForm(h.get(2)).my_Gram_matrix()\n",
    "    B = vector([])\n",
    "    C = 0\n",
    "\n",
    "    # try/except but for the poor ppl \n",
    "    if h.get(1) != None:\n",
    "        # we make a vector of the coefficients of each basis element\n",
    "        B = vector([h.get(1).coefficient(R.gens()[i]) for i in range(n)])\n",
    "\n",
    "    if h.get(0) != None:\n",
    "        C = h.get(0)\n",
    "\n",
    "    return A, B, C"
   ]
  },
  {
   "cell_type": "code",
   "execution_count": null,
   "id": "ccda966e",
   "metadata": {},
   "outputs": [],
   "source": [
    "# a function that simulates precomposition of a quadratic form\n",
    "# f(x) = x^T Ax + Bx + C with a n x n matrix S \n",
    "# so it returns f \\circ S \n",
    "def transform_input(S, A, B, C):\n",
    "    # this throws an error because S^T A S is a matrix but BS is a vector and you cannot\n",
    "    # put them in together in one vector\n",
    "    #\n",
    "    # it works if you return them separately, not in a vector\n",
    "    return S.transpose()*A*S, B*S, C"
   ]
  },
  {
   "cell_type": "code",
   "execution_count": 211,
   "id": "c9b728f3",
   "metadata": {},
   "outputs": [],
   "source": [
    "def random_symmetric_matrix(K, n):\n",
    "    # get a random matrix\n",
    "    A = random_matrix(K, n, n)\n",
    "    # and make it symmetric\n",
    "    return A + A.transpose()\n",
    "\n",
    "# returns A, B and C like above\n",
    "def random_quadratic_poly(K, n):\n",
    "    return random_symmetric_matrix(K, n), random_vector(K, n), K.random_element()"
   ]
  },
  {
   "cell_type": "code",
   "execution_count": 323,
   "id": "64519005",
   "metadata": {},
   "outputs": [],
   "source": [
    "class VectorOfMatrices:\n",
    "    def __init__(self, matrices):\n",
    "        self.matrices = matrices\n",
    "        self.len = len(matrices)\n",
    "\n",
    "    def get_len(self):\n",
    "        return self.len\n",
    "     \n",
    "    def __mul__(self, other):\n",
    "        # https://doc.sagemath.org/html/en/reference/matrices/sage/matrix/matrix_dense.html\n",
    "        if not isinstance(other, sage.matrix.matrix_dense.Matrix_dense):\n",
    "            raise TypeError(\"We only multiply by a matrix my dear\")\n",
    "\n",
    "        if other.ncols() != self.len:\n",
    "            raise ValueError(\"Matrix dimensions do not match\")\n",
    "\n",
    "        # multiply them by hand\n",
    "        result = [sum(other[i, j] * self.matrices[j] for j in range(self.len)) for i in range(other.nrows())]\n",
    "        # gives back a list\n",
    "        return result\n",
    "\n",
    "    def __sub__(self, other):\n",
    "        # https://doc.sagemath.org/html/en/reference/modules/sage/modules/vector_modn_dense.html#sage.modules.vector_modn_dense.Vector_modn_dense\n",
    "        # if not isinstance(other, sage.modules.vector_modn_dense):\n",
    "            # raise TypeError(\"We only subtract other VectorOfMatrices my dear\")\n",
    "\n",
    "        if other.len != self.len:\n",
    "            raise ValueError(\"Vector dimensions do not match\")\n",
    "\n",
    "        result = [self.matrices[i] - other.matrices[i] for i in range(self.len)]\n",
    "        return result\n",
    "        \n",
    "    def __repr__(self):\n",
    "        return f\"VectorOfMatrices(\\n{self.matrices})\"\n",
    "    \n",
    "    __rmul__ = __mul__\n",
    "    __rsub__ = __sub__"
   ]
  },
  {
   "cell_type": "code",
   "execution_count": 324,
   "id": "f7386911",
   "metadata": {},
   "outputs": [],
   "source": [
    "# an actual example\n",
    "# instead of generating an actual polynomial first \n",
    "# and then getting the corresponding matrices,\n",
    "# generate the matrices randomly\n",
    "\n",
    "# here are the actual transformations\n",
    "T = matrix(GL(m, K).random_element())\n",
    "S = matrix(GL(n, K).random_element())\n",
    "\n",
    "# We define the ring with enough variables for both our matrices\n",
    "R2  = PolynomialRing(K, n^2 + m^2, 'y')\n",
    "R2.inject_variables(verbose=False)\n",
    "\n",
    "# first n^2 elements of R2\n",
    "S_ = matrix(R2, n, n, R2.gens()[:n^2])\n",
    "\n",
    "# we get the last m^2 variables of R2\n",
    "T_ = matrix(R2, m, m, R2.gens()[-m^2:])\n",
    "# print(S_, T_)\n",
    "\n",
    "# generate whole ass m-sized vector of (homogenous) polynomials\n",
    "hom = []\n",
    "vec = []\n",
    "scal = []\n",
    "for i in range(m):\n",
    "    hom.append(random_symmetric_matrix(K, n))\n",
    "    vec.append(random_vector(K, n))\n",
    "    scal.append(K.random_element())"
   ]
  },
  {
   "cell_type": "code",
   "execution_count": 297,
   "id": "f4e375e6",
   "metadata": {},
   "outputs": [],
   "source": [
    "# this is for the homogenous part S^T AS\n",
    "G = [S.transpose()*A*S for A in hom]\n",
    "G_ = [S_.transpose()*A*S_ for A in hom]\n",
    "\n",
    "v = VectorOfMatrices(G)\n",
    "v_ = VectorOfMatrices(G_)\n",
    "\n",
    "P  = [[],[],[]]\n",
    "P_ = [[],[],[]]\n",
    "P[0] = T*v\n",
    "P_[0] = T_*v_\n",
    "\n",
    "P[1] = T*matrix([B*S for B in vec])\n",
    "P_[1] = T_*matrix([B*S_ for B in vec])\n",
    "\n",
    "P[2] = T*vector(scal)\n",
    "P_[2] = T_*vector(scal)\n",
    "\n",
    "# add the field equations by hand\n",
    "system = [y^p - y for y in R2.gens()]\n",
    "for i in range(m):\n",
    "    system += (P_[0][i] - P[0][i]).list()\n",
    "    system += (P_[1][i] - P[1][i]).list()\n",
    "    system += [P_[2][i] - P[2][i]]\n",
    "\n",
    "# the list(set(.)) removes the duplicates\n",
    "total_system = list(set(system))\n",
    "# print(total_system)\n",
    "# print(type(P[1][1]))\n",
    "# print(P_[1][1])"
   ]
  },
  {
   "cell_type": "code",
   "execution_count": 342,
   "id": "600f733c-6772-45f6-8d90-4f1addd43a66",
   "metadata": {},
   "outputs": [
    {
     "name": "stdout",
     "output_type": "stream",
     "text": [
      "[y1^3 - y1, -y2^2 - y2*y5 + y5^2 + y9, y9 + y10 - 1, y2 + y5 - y10, y0^3 - y0, y2^3 - y2, -y0*y1 + y1*y3 + y0*y4 + y3*y4 + y9 + y10, -y2*y5 - y5^2 - y2*y8 - y5*y8 + y11, y11^3 - y11, y2*y4 + y1*y5 - y4*y5 + y2*y7 + y5*y7 + y1*y8 + y4*y8 - y11 - y12, y5^3 - y5, y6^3 - y6, -y0^2 - y0*y3 + y3^2 - y9, y2*y3 + y0*y5 - y3*y5 + y2*y6 + y5*y6 + y0*y8 + y3*y8 + y12, y9^3 - y9, y1*y3 + y0*y4 - y3*y4 + y1*y6 + y4*y6 + y0*y7 + y3*y7 + y11 + y12, y7^3 - y7, y4^3 - y4, y8^3 - y8, y10^3 - y10, y12^3 - y12, y0 + y3 - y9, y1 + y4 - y10, -y3 + y6 - y11, -y1*y2 + y2*y4 + y1*y5 + y4*y5 - y9 - y10, -y0*y3 - y3^2 - y0*y6 - y3*y6 - y11, -y1*y4 - y4^2 - y1*y7 - y4*y7 - y12, -y4 + y7 - y12, -y5 + y8 - y12, -y1^2 - y1*y4 + y4^2 - y10, -y0*y2 + y2*y3 + y0*y5 + y3*y5 + y10, y3^3 - y3, y11 + y12 + 1]\n"
     ]
    }
   ],
   "source": [
    "# this is for the homogenous part S^T AS\n",
    "G = [S.transpose()*A*S for A in hom]\n",
    "G_ = [S_.transpose()*A*S_ for A in hom]\n",
    "\n",
    "v = VectorOfMatrices(G)\n",
    "v_ = VectorOfMatrices(G_)\n",
    "\n",
    "P  = [[],[],[]]\n",
    "P_ = [[],[],[]]\n",
    "Q  = [[],[],[]]\n",
    "P[0] = T*v\n",
    "P_[0] = T_*VectorOfMatrices(P[0])\n",
    "Q[0] = VectorOfMatrices(G_)\n",
    "\n",
    "P[1] = T*matrix([B*S for B in vec])\n",
    "P_[1] = T_*P[1]\n",
    "Q[1] = matrix([B*S_ for B in vec])\n",
    "\n",
    "P[2] = T*vector(scal)\n",
    "P_[2] = T_*P[2]\n",
    "Q[2] = vector(scal)\n",
    "\n",
    "# add the field equations by hand\n",
    "system = [y^p - y for y in R2.gens()]\n",
    "# system += VectorOfMatrices(P_[0]) - Q[0]\n",
    "M = VectorOfMatrices(P_[0]) - Q[0]\n",
    "for i in range(m):\n",
    "    system += M[i].list()\n",
    "    system += (P_[1][i] - Q[1][i]).list()\n",
    "    system += [P_[2][i] - Q[2][i]]\n",
    "\n",
    "# the list(set(.)) removes the duplicates\n",
    "total_system = list(set(system))\n",
    "print(total_system)\n",
    "\n",
    "# print(VectorOfMatrices(P[0]) - VectorOfMatrices(P_[0]))\n",
    "# print(P_[0][0])\n",
    "# print(type(P_[0]))\n",
    "# print(P[1][1])\n",
    "# print(P_[1][1])\n",
    "# t = T_.inverse()\n",
    "# print((t*P_[1])[1])"
   ]
  },
  {
   "cell_type": "code",
   "execution_count": 351,
   "id": "21c9249b-fda2-4c58-94e1-a70b2ec3632a",
   "metadata": {},
   "outputs": [
    {
     "name": "stdout",
     "output_type": "stream",
     "text": [
      "0\n",
      "[y0 + 1, y1 + 1, y2, y3, y4, y5 + 1, y6 + 1, y7, y8 + 1, y9 + 1, y10 + 1, y11 + 1, y12]\n",
      "y1^3 - y1\n",
      "-y2^2 - y2*y5 + y5^2 + y9\n",
      "y9 + y10 - 1\n",
      "y2 + y5 - y10\n",
      "y0^3 - y0\n",
      "y2^3 - y2\n",
      "-y0*y1 + y1*y3 + y0*y4 + y3*y4 + y9 + y10\n",
      "-y2*y5 - y5^2 - y2*y8 - y5*y8 + y11\n",
      "y11^3 - y11\n",
      "y2*y4 + y1*y5 - y4*y5 + y2*y7 + y5*y7 + y1*y8 + y4*y8 - y11 - y12\n",
      "y5^3 - y5\n",
      "y6^3 - y6\n",
      "-y0^2 - y0*y3 + y3^2 - y9\n",
      "y2*y3 + y0*y5 - y3*y5 + y2*y6 + y5*y6 + y0*y8 + y3*y8 + y12\n",
      "y9^3 - y9\n",
      "y1*y3 + y0*y4 - y3*y4 + y1*y6 + y4*y6 + y0*y7 + y3*y7 + y11 + y12\n",
      "y7^3 - y7\n",
      "y4^3 - y4\n",
      "y8^3 - y8\n",
      "y10^3 - y10\n",
      "y12^3 - y12\n",
      "y0 + y3 - y9\n",
      "y1 + y4 - y10\n",
      "-y3 + y6 - y11\n",
      "-y1*y2 + y2*y4 + y1*y5 + y4*y5 - y9 - y10\n",
      "-y0*y3 - y3^2 - y0*y6 - y3*y6 - y11\n",
      "-y1*y4 - y4^2 - y1*y7 - y4*y7 - y12\n",
      "-y4 + y7 - y12\n",
      "-y5 + y8 - y12\n",
      "-y1^2 - y1*y4 + y4^2 - y10\n",
      "-y0*y2 + y2*y3 + y0*y5 + y3*y5 + y10\n",
      "y3^3 - y3\n",
      "y11 + y12 + 1\n"
     ]
    }
   ],
   "source": [
    "set_verbose(0)\n",
    "I = R2.ideal(total_system)\n",
    "# J = R2.ideal(flat_system)\n",
    "print(I.dimension())\n",
    "J = I.groebner_basis()\n",
    "print(J)\n",
    "# Z = I.variety()\n",
    "# timeit.eval(\"Z = I.variety()\")\n",
    "# print(Z)\n",
    "for i in I.gens():\n",
    "    print(i)"
   ]
  },
  {
   "cell_type": "code",
   "execution_count": null,
   "id": "a6f765c2-bd2a-457c-bafd-5dc2db29c67a",
   "metadata": {},
   "outputs": [],
   "source": [
    "J.ideal().subs(y0=1, y1=2, y12=2)"
   ]
  },
  {
   "cell_type": "code",
   "execution_count": null,
   "id": "8710c50c-6fe7-49a1-b275-20cab8a9ec3c",
   "metadata": {},
   "outputs": [],
   "source": [
    "L = [f.subs(v) for f in I.gens() for v in Z]\n",
    "all(f.subs(v) == 0 for f in I.gens() for v in Z)"
   ]
  },
  {
   "cell_type": "code",
   "execution_count": null,
   "id": "ee02d8da-481d-47c1-86e1-fdf417d46829",
   "metadata": {},
   "outputs": [],
   "source": [
    "# from sage.rings.polynomial.msolve import groebner_basis_degrevlex\n",
    "# help(variety)\n",
    "# Z = variety(I, K, proof=False)\n",
    "# G = groebner_basis_degrevlex(I)\n",
    "# sorted(variety(I, K, proof=False), key=str)\n",
    "# print(Z)\n"
   ]
  },
  {
   "cell_type": "code",
   "execution_count": 239,
   "id": "f389ee3b-e58a-458e-9732-70435dace307",
   "metadata": {},
   "outputs": [],
   "source": [
    "# given a system of polynomials, check if it correctly corresponds\n",
    "# to the actual matrices it was created from\n",
    "#\n",
    "# ideal is an ideal of multivariate polynomial ring defined above\n",
    "# S and T are matrices\n",
    "def is_correct(ideal, S, T):\n",
    "    point = S.list() + T.list()\n",
    "\n",
    "    R = ideal.ring()\n",
    "    gens = R.gens()\n",
    "    # make an appropriate dict\n",
    "    substitution_dict = {gens[i]: point[i] for i in range(len(point))}\n",
    "    \n",
    "    return all(f.subs(substitution_dict) == 0 for f in ideal.gens())"
   ]
  },
  {
   "cell_type": "code",
   "execution_count": 346,
   "id": "09c9266c-0782-4120-b4f7-279567f19a38",
   "metadata": {},
   "outputs": [
    {
     "data": {
      "text/plain": [
       "True"
      ]
     },
     "execution_count": 346,
     "metadata": {},
     "output_type": "execute_result"
    }
   ],
   "source": [
    "is_correct(I, S, T.inverse())"
   ]
  }
 ],
 "metadata": {
  "kernelspec": {
   "display_name": "SageMath 10.5",
   "language": "sage",
   "name": "sagemath"
  },
  "language_info": {
   "codemirror_mode": {
    "name": "ipython",
    "version": 3
   },
   "file_extension": ".py",
   "mimetype": "text/x-python",
   "name": "python",
   "nbconvert_exporter": "python",
   "pygments_lexer": "ipython3",
   "version": "3.13.2"
  }
 },
 "nbformat": 4,
 "nbformat_minor": 5
}
