{
 "cells": [
  {
   "cell_type": "code",
   "execution_count": 2,
   "id": "7997c5b5-b262-4826-ab25-56c9dab3725c",
   "metadata": {},
   "outputs": [],
   "source": [
    "from types import MethodType\n",
    "\n",
    "p = 13\n",
    "K = GF(p)\n",
    "n = 5\n",
    "R = PolynomialRing(K, x, n) # defines n variables over K\n",
    "R.inject_variables(verbose=False) # makes all the variables ready for use"
   ]
  },
  {
   "cell_type": "code",
   "execution_count": 15,
   "id": "a547f154-0096-4014-855b-533ed587ee3d",
   "metadata": {},
   "outputs": [],
   "source": [
    "# generate two m-tuples of inhomogenous multivariate polynomials of degree 2\",\n",
    "m = 4\n",
    "\n",
    "F = []\n",
    "P = []\n",
    "for i in range(m):\n",
    "    F.append(R.random_element(degree=2))\n",
    "    P.append(R.random_element(degree=2))\n",
    "\n",
    "f = vector(F)\n",
    "p = vector(P)"
   ]
  },
  {
   "cell_type": "code",
   "execution_count": 4,
   "id": "33059be2-f669-433d-9527-1c25ed9cecb8",
   "metadata": {},
   "outputs": [],
   "source": [
    "# class QuadraticForm(SageObject):\n",
    "\n",
    "def my_Gram_matrix(self):\n",
    "    R = self.base_ring()\n",
    "    assert R.characteristic() != 2, \"Characteristic of the base ring cannot be 2.\"\n",
    "    A = (R(1) / R(2)) * self.matrix()\n",
    "    n = self.dim()\n",
    "\n",
    "    # Test to see if it has an integral Gram matrix\n",
    "    Int_flag = True\n",
    "    for i in range(n):\n",
    "        for j in range(i, n):\n",
    "            Int_flag &= A[i, j] in R\n",
    "\n",
    "    # Return the Gram matrix, or an error\n",
    "    if Int_flag:\n",
    "        return MatrixSpace(R, n, n)(A)\n",
    "    raise TypeError(\"this form does not have an integral Gram matrix\")\n",
    "\n",
    "QuadraticForm.my_Gram_matrix = my_Gram_matrix"
   ]
  },
  {
   "cell_type": "code",
   "execution_count": 28,
   "id": "2109a390-5694-467a-99e9-489de03458e5",
   "metadata": {},
   "outputs": [],
   "source": [
    "# given a polynomial f, output the matrix A, vector B and scalar C s.t.\n",
    "# f(x) = x^T Ax + Bx + C\n",
    "def quadratic_to_matrix(f):\n",
    "    h = f.homogeneous_components()\n",
    "    A = QuadraticForm(h.get(2)).my_Gram_matrix()\n",
    "    B = vector([])\n",
    "    C = 0\n",
    "\n",
    "    # try/except but for the poor ppl \n",
    "    if h.get(1) != None:\n",
    "        # we make a vector of the coefficients of each basis element\n",
    "        B = vector([h.get(1).coefficient(R.gens()[i]) for i in range(n)])\n",
    "\n",
    "    if h.get(0) != None:\n",
    "        C = h.get(0)\n",
    "\n",
    "    return A, B, C"
   ]
  },
  {
   "cell_type": "code",
   "execution_count": 48,
   "id": "e832e1d1-7020-46c1-a976-79fba00af9a8",
   "metadata": {},
   "outputs": [
    {
     "name": "stdout",
     "output_type": "stream",
     "text": [
      "6*x1*x3 + 2*x0*x4 - 2*x3*x4 + 5*x2 - 5\n",
      "[ 0  0  0  0  1]\n",
      "[ 0  0  0  3  0]\n",
      "[ 0  0  0  0  0]\n",
      "[ 0  3  0  0 12]\n",
      "[ 1  0  0 12  0] (0, 0, 5, 0, 0) -5\n",
      "6\n"
     ]
    },
    {
     "data": {
      "text/plain": [
       "True"
      ]
     },
     "execution_count": 48,
     "metadata": {},
     "output_type": "execute_result"
    }
   ],
   "source": [
    "# some tests for the above\n",
    "idx = 3 # some random index\n",
    "F = f[idx]\n",
    "print(F)\n",
    "A, B, C = quadratic_to_matrix(F)\n",
    "print(A,B,C)\n",
    "\n",
    "w = (1,1,1,1,1)\n",
    "print(F(w))\n",
    "v = vector(K,w)\n",
    "res = v*A*v + B*v + C\n",
    "F(w) == res"
   ]
  },
  {
   "cell_type": "code",
   "execution_count": 54,
   "id": "93f942ea-dcb4-40c4-88f8-6e6c71c3b840",
   "metadata": {},
   "outputs": [
    {
     "name": "stdout",
     "output_type": "stream",
     "text": [
      "[ 6 11 10  7  6]\n",
      "[ 8  1  1  4  6]\n",
      "[ 1  7 10  9  5]\n",
      "[11  3  5  2  0]\n",
      "[11 10  2  2  1]\n",
      "[ 6 11 10  7  6]\n",
      "[ 8  1  1  4  6]\n",
      "[ 1  7 10  9  5]\n",
      "[11  3  5  2  0]\n",
      "[11 10  2  2  1]\n"
     ]
    }
   ],
   "source": [
    "# create an actual answer\n",
    "\n",
    "T = GL(m, K).random_element()\n",
    "S = GL(n, K).random_element()\n",
    "# print(T,\"\\n\",S)\n",
    "# print(T*F)\n",
    "print(S)\n",
    "S = Matrix(S)\n",
    "print(S)\n",
    "# S.transpose()*A*S"
   ]
  },
  {
   "cell_type": "code",
   "execution_count": 55,
   "id": "3af93a6b-4a00-4f24-8cdc-94fc7e56dc64",
   "metadata": {},
   "outputs": [],
   "source": [
    "def transform_input(S, A, B, C):\n",
    "    return S.transpose()*A*S, B*S, C"
   ]
  },
  {
   "cell_type": "code",
   "execution_count": 71,
   "id": "401ecf1e-cc06-4c12-933a-983988c07d4e",
   "metadata": {},
   "outputs": [
    {
     "data": {
      "text/plain": [
       "(y25 + 2*y26 + 3*y27 + 4*y28, y29 + 2*y30 + 3*y31 + 4*y32, y33 + 2*y34 + 3*y35 + 4*y36, y37 + 2*y38 + 3*y39 + 4*y40)"
      ]
     },
     "execution_count": 71,
     "metadata": {},
     "output_type": "execute_result"
    }
   ],
   "source": [
    "# We define the ring with enough variables for both our matrices\n",
    "R2  = PolynomialRing(K, n^2 + m^2, 'y')\n",
    "\n",
    "# first n^2 elements of R2\n",
    "A_ = matrix(R2, n, n, R2.gens()[:n^2]); A_\n",
    "\n",
    "# R3 = PolynomialRing(K, m^2, 'z')\n",
    "# we get the last m^2 variables of R2\n",
    "B_ = matrix(R2, m, m, R2.gens()[-m^2:]); B\n",
    "B_*vector([1,2,3,4])"
   ]
  },
  {
   "cell_type": "code",
   "execution_count": null,
   "id": "92817d59-3a42-4964-9b63-64ac6159e58b",
   "metadata": {},
   "outputs": [],
   "source": []
  }
 ],
 "metadata": {
  "kernelspec": {
   "display_name": "SageMath 10.5",
   "language": "sage",
   "name": "sagemath"
  },
  "language_info": {
   "codemirror_mode": {
    "name": "ipython",
    "version": 3
   },
   "file_extension": ".py",
   "mimetype": "text/x-python",
   "name": "python",
   "nbconvert_exporter": "python",
   "pygments_lexer": "ipython3",
   "version": "3.13.1"
  }
 },
 "nbformat": 4,
 "nbformat_minor": 5
}
